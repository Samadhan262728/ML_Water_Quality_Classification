{
 "cells": [
  {
   "cell_type": "markdown",
   "id": "f61ae790",
   "metadata": {},
   "source": [
    "# SAMADHAN PISAL - WATER QUALITY ML PROJECT"
   ]
  },
  {
   "cell_type": "markdown",
   "id": "ed901d21",
   "metadata": {},
   "source": [
    "## Context :- \n",
    "Access to safe drinking-water is essential to health, a basic human right and a component of effective policy for health protection. This is important as a health and development issue at a national, regional and local level. In some regions, it has been shown that investments in water supply and sanitation can yield a net economic benefit, since the reductions in adverse health effects and health care costs outweigh the costs of undertaking the interventions."
   ]
  },
  {
   "cell_type": "markdown",
   "id": "73357eed",
   "metadata": {},
   "source": [
    "## Content :-\n",
    "\n",
    "The factors listed represent various chemical substances and microorganisms that can contaminate water and potentially affect its quality. Here's an explanation of each factor and how it can impact water quality based on the given threshold values:\n",
    "\n",
    "1] Aluminium: \n",
    "\n",
    "Levels greater than 2.8 are dangerous. High levels of aluminum can cause health issues, including neurological disorders.\n",
    "\n",
    "2] Ammonia: \n",
    "\n",
    "Dangerous if greater than 32.5. Elevated ammonia levels can be harmful, especially to aquatic life, and indicate pollution from agricultural or industrial sources.\n",
    "\n",
    "3] Arsenic: \n",
    "\n",
    "Dangerous if greater than 0.01. Arsenic contamination in water can cause various health problems, including cancer and skin lesions.\n",
    "\n",
    "4] Barium: \n",
    "\n",
    "Dangerous if greater than 2. High barium levels can lead to high blood pressure and other cardiovascular issues.\n",
    "\n",
    "5] Cadmium: \n",
    "\n",
    "Dangerous if greater than 0.005. Cadmium exposure through water can cause kidney and lung damage and increase the risk of cancer.\n",
    "\n",
    "6] Chloramine: \n",
    "\n",
    "Dangerous if greater than 4. Chloramine is a disinfectant; high levels can lead to respiratory issues and eye irritation.\n",
    "\n",
    "7] Chromium: \n",
    "\n",
    "Dangerous if greater than 0.1. Chromium in drinking water can cause lung cancer and other respiratory problems.\n",
    "\n",
    "8] Copper: \n",
    "\n",
    "Dangerous if greater than 1.3. Elevated copper levels can cause gastrointestinal problems and long-term exposure may lead to liver or kidney damage.\n",
    "\n",
    "9] Fluoride: \n",
    "\n",
    "Dangerous if greater than 1.5. While fluoride is added to water for dental health, excessive levels can cause dental and skeletal fluorosis.\n",
    "\n",
    "10] Bacteria: \n",
    "\n",
    "Dangerous if greater than 0. Bacterial contamination can cause various waterborne diseases, including diarrhea and gastrointestinal disorders.\n",
    "\n",
    "11] Viruses: \n",
    "\n",
    "Dangerous if greater than 0. Viral contamination can lead to serious illnesses, especially in individuals with weakened immune systems.\n",
    "\n",
    "12] Lead: \n",
    "\n",
    "Dangerous if greater than 0.015. Lead exposure can cause developmental issues in children and cardiovascular problems in adults.\n",
    "\n",
    "13] Nitrates: \n",
    "\n",
    "Dangerous if greater than 10. High nitrate levels can cause methemoglobinemia or \"blue baby syndrome,\" especially in infants.\n",
    "\n",
    "14] Nitrites: \n",
    "\n",
    "Dangerous if greater than 1. Nitrites can interfere with the blood's ability to carry oxygen and pose a risk, especially to infants.\n",
    "\n",
    "15] Mercury: \n",
    "\n",
    "Dangerous if greater than 0.002. Mercury exposure can cause neurological issues and harm the cardiovascular system.\n",
    "\n",
    "16] Perchlorate: \n",
    "\n",
    "Dangerous if greater than 56. Perchlorate interferes with iodide uptake by the thyroid gland, potentially leading to thyroid problems.\n",
    "\n",
    "17] Radium: \n",
    "\n",
    "Dangerous if greater than 5. Radium exposure can increase the risk of cancer and other health issues.\n",
    "\n",
    "18] Selenium: \n",
    "\n",
    "Dangerous if greater than 0.5. High selenium levels can cause hair and nail loss and nervous system disorders.\n",
    "\n",
    "19] Silver: \n",
    "\n",
    "Dangerous if greater than 0.1. While rare, exposure to high silver levels can lead to argyria, a condition where the skin turns blue-gray.\n",
    "\n",
    "20] Uranium: \n",
    "\n",
    "Dangerous if greater than 0.3. Uranium exposure can cause kidney damage and increase cancer risk.\n",
    "\n",
    "21] is_safe: \n",
    "\n",
    "This attribute indicates whether the water is safe to drink (1) or not safe (0) based on the levels of these contaminants. Monitoring and regulating these substances are crucial to ensuring safe drinking water for communities.\n"
   ]
  },
  {
   "cell_type": "code",
   "execution_count": 1,
   "id": "42ff85ae",
   "metadata": {},
   "outputs": [],
   "source": [
    "import pandas as pd \n",
    "import numpy as np\n",
    "import matplotlib.pyplot as plt\n",
    "import seaborn as sns\n",
    "import warnings\n",
    "warnings.filterwarnings(\"ignore\")\n",
    "%matplotlib inline"
   ]
  },
  {
   "cell_type": "markdown",
   "id": "b8e94921",
   "metadata": {},
   "source": [
    "import pandas as pd: \n",
    "\n",
    "This imports the Pandas library and allows us to use its functions and data structures. \n",
    "Pandas is a powerful library for data manipulation and analysis.\n",
    "\n",
    "\n",
    "import numpy as np: \n",
    "\n",
    "This imports the NumPy library, which provides support for large, multi-dimensional arrays and matrices, along with a large collection of high-level mathematical functions to operate on these arrays.\n",
    "\n",
    "\n",
    "import matplotlib.pyplot as plt: \n",
    "\n",
    "This imports the Matplotlib library, which is a popular data visualization library in Python. It allows us to create a wide variety of static, interactive, and animated plots and figures.\n",
    "\n",
    "\n",
    "import seaborn as sns: \n",
    "\n",
    "Seaborn is another data visualization library based on Matplotlib. \n",
    "It provides a high-level interface for drawing attractive and informative statistical graphics.\n",
    "\n",
    "\n",
    "import warning: \n",
    "\n",
    "This line attempts to import a module named warning. However, there is a typo in the code (warning should be warnings), so this line would typically result in an error.\n",
    "\n",
    "\n",
    "warnings.filterwarnings(\"ignore\"): \n",
    "\n",
    "This line suppresses all warnings that normally occur during the execution of the code. Warnings are messages that indicate possible issues or misuse of functions. By ignoring warnings, the code will run without displaying these warning messages.\n",
    "\n",
    "\n",
    "%matplotlib inline: \n",
    "\n",
    "This is called a magic command in IPython (Interactive Python) environments, like Jupyter notebooks. \n",
    "It allows the output of Matplotlib visualizations to be displayed directly below the code cell that produces it. \n",
    "This line is not needed in regular Python scripts but is useful in interactive environments like Jupyter notebooks."
   ]
  },
  {
   "cell_type": "code",
   "execution_count": 2,
   "id": "58d78871",
   "metadata": {},
   "outputs": [
    {
     "data": {
      "text/html": [
       "<div>\n",
       "<style scoped>\n",
       "    .dataframe tbody tr th:only-of-type {\n",
       "        vertical-align: middle;\n",
       "    }\n",
       "\n",
       "    .dataframe tbody tr th {\n",
       "        vertical-align: top;\n",
       "    }\n",
       "\n",
       "    .dataframe thead th {\n",
       "        text-align: right;\n",
       "    }\n",
       "</style>\n",
       "<table border=\"1\" class=\"dataframe\">\n",
       "  <thead>\n",
       "    <tr style=\"text-align: right;\">\n",
       "      <th></th>\n",
       "      <th>aluminium</th>\n",
       "      <th>ammonia</th>\n",
       "      <th>arsenic</th>\n",
       "      <th>barium</th>\n",
       "      <th>cadmium</th>\n",
       "      <th>chloramine</th>\n",
       "      <th>chromium</th>\n",
       "      <th>copper</th>\n",
       "      <th>flouride</th>\n",
       "      <th>bacteria</th>\n",
       "      <th>...</th>\n",
       "      <th>lead</th>\n",
       "      <th>nitrates</th>\n",
       "      <th>nitrites</th>\n",
       "      <th>mercury</th>\n",
       "      <th>perchlorate</th>\n",
       "      <th>radium</th>\n",
       "      <th>selenium</th>\n",
       "      <th>silver</th>\n",
       "      <th>uranium</th>\n",
       "      <th>is_safe</th>\n",
       "    </tr>\n",
       "  </thead>\n",
       "  <tbody>\n",
       "    <tr>\n",
       "      <th>0</th>\n",
       "      <td>1.65</td>\n",
       "      <td>9.08</td>\n",
       "      <td>0.04</td>\n",
       "      <td>2.85</td>\n",
       "      <td>0.007</td>\n",
       "      <td>0.35</td>\n",
       "      <td>0.83</td>\n",
       "      <td>0.17</td>\n",
       "      <td>0.05</td>\n",
       "      <td>0.20</td>\n",
       "      <td>...</td>\n",
       "      <td>0.054</td>\n",
       "      <td>16.08</td>\n",
       "      <td>1.13</td>\n",
       "      <td>0.007</td>\n",
       "      <td>37.75</td>\n",
       "      <td>6.78</td>\n",
       "      <td>0.08</td>\n",
       "      <td>0.34</td>\n",
       "      <td>0.02</td>\n",
       "      <td>1</td>\n",
       "    </tr>\n",
       "    <tr>\n",
       "      <th>1</th>\n",
       "      <td>2.32</td>\n",
       "      <td>21.16</td>\n",
       "      <td>0.01</td>\n",
       "      <td>3.31</td>\n",
       "      <td>0.002</td>\n",
       "      <td>5.28</td>\n",
       "      <td>0.68</td>\n",
       "      <td>0.66</td>\n",
       "      <td>0.90</td>\n",
       "      <td>0.65</td>\n",
       "      <td>...</td>\n",
       "      <td>0.100</td>\n",
       "      <td>2.01</td>\n",
       "      <td>1.93</td>\n",
       "      <td>0.003</td>\n",
       "      <td>32.26</td>\n",
       "      <td>3.21</td>\n",
       "      <td>0.08</td>\n",
       "      <td>0.27</td>\n",
       "      <td>0.05</td>\n",
       "      <td>1</td>\n",
       "    </tr>\n",
       "    <tr>\n",
       "      <th>2</th>\n",
       "      <td>1.01</td>\n",
       "      <td>14.02</td>\n",
       "      <td>0.04</td>\n",
       "      <td>0.58</td>\n",
       "      <td>0.008</td>\n",
       "      <td>4.24</td>\n",
       "      <td>0.53</td>\n",
       "      <td>0.02</td>\n",
       "      <td>0.99</td>\n",
       "      <td>0.05</td>\n",
       "      <td>...</td>\n",
       "      <td>0.078</td>\n",
       "      <td>14.16</td>\n",
       "      <td>1.11</td>\n",
       "      <td>0.006</td>\n",
       "      <td>50.28</td>\n",
       "      <td>7.07</td>\n",
       "      <td>0.07</td>\n",
       "      <td>0.44</td>\n",
       "      <td>0.01</td>\n",
       "      <td>0</td>\n",
       "    </tr>\n",
       "    <tr>\n",
       "      <th>3</th>\n",
       "      <td>1.36</td>\n",
       "      <td>11.33</td>\n",
       "      <td>0.04</td>\n",
       "      <td>2.96</td>\n",
       "      <td>0.001</td>\n",
       "      <td>7.23</td>\n",
       "      <td>0.03</td>\n",
       "      <td>1.66</td>\n",
       "      <td>1.08</td>\n",
       "      <td>0.71</td>\n",
       "      <td>...</td>\n",
       "      <td>0.016</td>\n",
       "      <td>1.41</td>\n",
       "      <td>1.29</td>\n",
       "      <td>0.004</td>\n",
       "      <td>9.12</td>\n",
       "      <td>1.72</td>\n",
       "      <td>0.02</td>\n",
       "      <td>0.45</td>\n",
       "      <td>0.05</td>\n",
       "      <td>1</td>\n",
       "    </tr>\n",
       "    <tr>\n",
       "      <th>4</th>\n",
       "      <td>0.92</td>\n",
       "      <td>24.33</td>\n",
       "      <td>0.03</td>\n",
       "      <td>0.20</td>\n",
       "      <td>0.006</td>\n",
       "      <td>2.67</td>\n",
       "      <td>0.69</td>\n",
       "      <td>0.57</td>\n",
       "      <td>0.61</td>\n",
       "      <td>0.13</td>\n",
       "      <td>...</td>\n",
       "      <td>0.117</td>\n",
       "      <td>6.74</td>\n",
       "      <td>1.11</td>\n",
       "      <td>0.003</td>\n",
       "      <td>16.90</td>\n",
       "      <td>2.41</td>\n",
       "      <td>0.02</td>\n",
       "      <td>0.06</td>\n",
       "      <td>0.02</td>\n",
       "      <td>1</td>\n",
       "    </tr>\n",
       "    <tr>\n",
       "      <th>...</th>\n",
       "      <td>...</td>\n",
       "      <td>...</td>\n",
       "      <td>...</td>\n",
       "      <td>...</td>\n",
       "      <td>...</td>\n",
       "      <td>...</td>\n",
       "      <td>...</td>\n",
       "      <td>...</td>\n",
       "      <td>...</td>\n",
       "      <td>...</td>\n",
       "      <td>...</td>\n",
       "      <td>...</td>\n",
       "      <td>...</td>\n",
       "      <td>...</td>\n",
       "      <td>...</td>\n",
       "      <td>...</td>\n",
       "      <td>...</td>\n",
       "      <td>...</td>\n",
       "      <td>...</td>\n",
       "      <td>...</td>\n",
       "      <td>...</td>\n",
       "    </tr>\n",
       "    <tr>\n",
       "      <th>7994</th>\n",
       "      <td>0.05</td>\n",
       "      <td>7.78</td>\n",
       "      <td>0.00</td>\n",
       "      <td>1.95</td>\n",
       "      <td>0.040</td>\n",
       "      <td>0.10</td>\n",
       "      <td>0.03</td>\n",
       "      <td>0.03</td>\n",
       "      <td>1.37</td>\n",
       "      <td>0.00</td>\n",
       "      <td>...</td>\n",
       "      <td>0.197</td>\n",
       "      <td>14.29</td>\n",
       "      <td>1.00</td>\n",
       "      <td>0.005</td>\n",
       "      <td>3.57</td>\n",
       "      <td>2.13</td>\n",
       "      <td>0.09</td>\n",
       "      <td>0.06</td>\n",
       "      <td>0.03</td>\n",
       "      <td>1</td>\n",
       "    </tr>\n",
       "    <tr>\n",
       "      <th>7995</th>\n",
       "      <td>0.05</td>\n",
       "      <td>24.22</td>\n",
       "      <td>0.02</td>\n",
       "      <td>0.59</td>\n",
       "      <td>0.010</td>\n",
       "      <td>0.45</td>\n",
       "      <td>0.02</td>\n",
       "      <td>0.02</td>\n",
       "      <td>1.48</td>\n",
       "      <td>0.00</td>\n",
       "      <td>...</td>\n",
       "      <td>0.031</td>\n",
       "      <td>10.27</td>\n",
       "      <td>1.00</td>\n",
       "      <td>0.001</td>\n",
       "      <td>1.48</td>\n",
       "      <td>1.11</td>\n",
       "      <td>0.09</td>\n",
       "      <td>0.10</td>\n",
       "      <td>0.08</td>\n",
       "      <td>1</td>\n",
       "    </tr>\n",
       "    <tr>\n",
       "      <th>7996</th>\n",
       "      <td>0.09</td>\n",
       "      <td>6.85</td>\n",
       "      <td>0.00</td>\n",
       "      <td>0.61</td>\n",
       "      <td>0.030</td>\n",
       "      <td>0.05</td>\n",
       "      <td>0.05</td>\n",
       "      <td>0.02</td>\n",
       "      <td>0.91</td>\n",
       "      <td>0.00</td>\n",
       "      <td>...</td>\n",
       "      <td>0.182</td>\n",
       "      <td>15.92</td>\n",
       "      <td>1.00</td>\n",
       "      <td>0.000</td>\n",
       "      <td>1.35</td>\n",
       "      <td>4.84</td>\n",
       "      <td>0.00</td>\n",
       "      <td>0.04</td>\n",
       "      <td>0.05</td>\n",
       "      <td>1</td>\n",
       "    </tr>\n",
       "    <tr>\n",
       "      <th>7997</th>\n",
       "      <td>0.01</td>\n",
       "      <td>10</td>\n",
       "      <td>0.01</td>\n",
       "      <td>2.00</td>\n",
       "      <td>0.000</td>\n",
       "      <td>2.00</td>\n",
       "      <td>0.00</td>\n",
       "      <td>0.09</td>\n",
       "      <td>0.00</td>\n",
       "      <td>0.00</td>\n",
       "      <td>...</td>\n",
       "      <td>0.000</td>\n",
       "      <td>0.00</td>\n",
       "      <td>0.00</td>\n",
       "      <td>0.000</td>\n",
       "      <td>0.00</td>\n",
       "      <td>0.00</td>\n",
       "      <td>0.00</td>\n",
       "      <td>0.00</td>\n",
       "      <td>0.00</td>\n",
       "      <td>1</td>\n",
       "    </tr>\n",
       "    <tr>\n",
       "      <th>7998</th>\n",
       "      <td>0.04</td>\n",
       "      <td>6.85</td>\n",
       "      <td>0.01</td>\n",
       "      <td>0.70</td>\n",
       "      <td>0.030</td>\n",
       "      <td>0.05</td>\n",
       "      <td>0.01</td>\n",
       "      <td>0.03</td>\n",
       "      <td>1.00</td>\n",
       "      <td>0.00</td>\n",
       "      <td>...</td>\n",
       "      <td>0.182</td>\n",
       "      <td>15.92</td>\n",
       "      <td>1.00</td>\n",
       "      <td>0.000</td>\n",
       "      <td>1.35</td>\n",
       "      <td>4.84</td>\n",
       "      <td>0.00</td>\n",
       "      <td>0.04</td>\n",
       "      <td>0.05</td>\n",
       "      <td>1</td>\n",
       "    </tr>\n",
       "  </tbody>\n",
       "</table>\n",
       "<p>7999 rows × 21 columns</p>\n",
       "</div>"
      ],
      "text/plain": [
       "      aluminium ammonia  arsenic  barium  cadmium  chloramine  chromium  \\\n",
       "0          1.65    9.08     0.04    2.85    0.007        0.35      0.83   \n",
       "1          2.32   21.16     0.01    3.31    0.002        5.28      0.68   \n",
       "2          1.01   14.02     0.04    0.58    0.008        4.24      0.53   \n",
       "3          1.36   11.33     0.04    2.96    0.001        7.23      0.03   \n",
       "4          0.92   24.33     0.03    0.20    0.006        2.67      0.69   \n",
       "...         ...     ...      ...     ...      ...         ...       ...   \n",
       "7994       0.05    7.78     0.00    1.95    0.040        0.10      0.03   \n",
       "7995       0.05   24.22     0.02    0.59    0.010        0.45      0.02   \n",
       "7996       0.09    6.85     0.00    0.61    0.030        0.05      0.05   \n",
       "7997       0.01      10     0.01    2.00    0.000        2.00      0.00   \n",
       "7998       0.04    6.85     0.01    0.70    0.030        0.05      0.01   \n",
       "\n",
       "      copper  flouride  bacteria  ...   lead  nitrates  nitrites  mercury  \\\n",
       "0       0.17      0.05      0.20  ...  0.054     16.08      1.13    0.007   \n",
       "1       0.66      0.90      0.65  ...  0.100      2.01      1.93    0.003   \n",
       "2       0.02      0.99      0.05  ...  0.078     14.16      1.11    0.006   \n",
       "3       1.66      1.08      0.71  ...  0.016      1.41      1.29    0.004   \n",
       "4       0.57      0.61      0.13  ...  0.117      6.74      1.11    0.003   \n",
       "...      ...       ...       ...  ...    ...       ...       ...      ...   \n",
       "7994    0.03      1.37      0.00  ...  0.197     14.29      1.00    0.005   \n",
       "7995    0.02      1.48      0.00  ...  0.031     10.27      1.00    0.001   \n",
       "7996    0.02      0.91      0.00  ...  0.182     15.92      1.00    0.000   \n",
       "7997    0.09      0.00      0.00  ...  0.000      0.00      0.00    0.000   \n",
       "7998    0.03      1.00      0.00  ...  0.182     15.92      1.00    0.000   \n",
       "\n",
       "      perchlorate  radium  selenium  silver  uranium  is_safe  \n",
       "0           37.75    6.78      0.08    0.34     0.02        1  \n",
       "1           32.26    3.21      0.08    0.27     0.05        1  \n",
       "2           50.28    7.07      0.07    0.44     0.01        0  \n",
       "3            9.12    1.72      0.02    0.45     0.05        1  \n",
       "4           16.90    2.41      0.02    0.06     0.02        1  \n",
       "...           ...     ...       ...     ...      ...      ...  \n",
       "7994         3.57    2.13      0.09    0.06     0.03        1  \n",
       "7995         1.48    1.11      0.09    0.10     0.08        1  \n",
       "7996         1.35    4.84      0.00    0.04     0.05        1  \n",
       "7997         0.00    0.00      0.00    0.00     0.00        1  \n",
       "7998         1.35    4.84      0.00    0.04     0.05        1  \n",
       "\n",
       "[7999 rows x 21 columns]"
      ]
     },
     "execution_count": 2,
     "metadata": {},
     "output_type": "execute_result"
    }
   ],
   "source": [
    "df=pd.read_csv(r\"E:\\Samadhan Pisal\\IT Vedant word files\\ML\\IT vednat Final Project\\2nd_Project\\Water_Quality.csv\")\n",
    "df"
   ]
  },
  {
   "cell_type": "markdown",
   "id": "7cab21e9",
   "metadata": {},
   "source": [
    "The Water_Quality.csv file contains water quality metrics for 3276 different water bodies."
   ]
  },
  {
   "cell_type": "code",
   "execution_count": 3,
   "id": "a991342c",
   "metadata": {},
   "outputs": [
    {
     "name": "stdout",
     "output_type": "stream",
     "text": [
      "<class 'pandas.core.frame.DataFrame'>\n",
      "RangeIndex: 7999 entries, 0 to 7998\n",
      "Data columns (total 21 columns):\n",
      " #   Column       Non-Null Count  Dtype  \n",
      "---  ------       --------------  -----  \n",
      " 0   aluminium    7999 non-null   float64\n",
      " 1   ammonia      7999 non-null   object \n",
      " 2   arsenic      7999 non-null   float64\n",
      " 3   barium       7999 non-null   float64\n",
      " 4   cadmium      7999 non-null   float64\n",
      " 5   chloramine   7999 non-null   float64\n",
      " 6   chromium     7999 non-null   float64\n",
      " 7   copper       7999 non-null   float64\n",
      " 8   flouride     7999 non-null   float64\n",
      " 9   bacteria     7999 non-null   float64\n",
      " 10  viruses      7999 non-null   float64\n",
      " 11  lead         7999 non-null   float64\n",
      " 12  nitrates     7999 non-null   float64\n",
      " 13  nitrites     7999 non-null   float64\n",
      " 14  mercury      7999 non-null   float64\n",
      " 15  perchlorate  7999 non-null   float64\n",
      " 16  radium       7999 non-null   float64\n",
      " 17  selenium     7999 non-null   float64\n",
      " 18  silver       7999 non-null   float64\n",
      " 19  uranium      7999 non-null   float64\n",
      " 20  is_safe      7999 non-null   object \n",
      "dtypes: float64(19), object(2)\n",
      "memory usage: 1.3+ MB\n"
     ]
    }
   ],
   "source": [
    "df.info()"
   ]
  },
  {
   "cell_type": "code",
   "execution_count": 4,
   "id": "77ac8a35",
   "metadata": {},
   "outputs": [],
   "source": [
    "df.replace(\"#NUM!\",np.nan,inplace=True)"
   ]
  },
  {
   "cell_type": "code",
   "execution_count": 5,
   "id": "1b194a13",
   "metadata": {},
   "outputs": [
    {
     "name": "stdout",
     "output_type": "stream",
     "text": [
      "<class 'pandas.core.frame.DataFrame'>\n",
      "RangeIndex: 7999 entries, 0 to 7998\n",
      "Data columns (total 21 columns):\n",
      " #   Column       Non-Null Count  Dtype  \n",
      "---  ------       --------------  -----  \n",
      " 0   aluminium    7999 non-null   float64\n",
      " 1   ammonia      7996 non-null   object \n",
      " 2   arsenic      7999 non-null   float64\n",
      " 3   barium       7999 non-null   float64\n",
      " 4   cadmium      7999 non-null   float64\n",
      " 5   chloramine   7999 non-null   float64\n",
      " 6   chromium     7999 non-null   float64\n",
      " 7   copper       7999 non-null   float64\n",
      " 8   flouride     7999 non-null   float64\n",
      " 9   bacteria     7999 non-null   float64\n",
      " 10  viruses      7999 non-null   float64\n",
      " 11  lead         7999 non-null   float64\n",
      " 12  nitrates     7999 non-null   float64\n",
      " 13  nitrites     7999 non-null   float64\n",
      " 14  mercury      7999 non-null   float64\n",
      " 15  perchlorate  7999 non-null   float64\n",
      " 16  radium       7999 non-null   float64\n",
      " 17  selenium     7999 non-null   float64\n",
      " 18  silver       7999 non-null   float64\n",
      " 19  uranium      7999 non-null   float64\n",
      " 20  is_safe      7996 non-null   object \n",
      "dtypes: float64(19), object(2)\n",
      "memory usage: 1.3+ MB\n"
     ]
    }
   ],
   "source": [
    "df.info()"
   ]
  },
  {
   "cell_type": "code",
   "execution_count": 6,
   "id": "dee86258",
   "metadata": {},
   "outputs": [],
   "source": [
    "df[\"ammonia\"]=df[\"ammonia\"].astype(\"float\")\n",
    "df[\"is_safe\"]=df[\"is_safe\"].astype(\"float\")"
   ]
  },
  {
   "cell_type": "code",
   "execution_count": 7,
   "id": "51a1c019",
   "metadata": {},
   "outputs": [
    {
     "name": "stdout",
     "output_type": "stream",
     "text": [
      "<class 'pandas.core.frame.DataFrame'>\n",
      "RangeIndex: 7999 entries, 0 to 7998\n",
      "Data columns (total 21 columns):\n",
      " #   Column       Non-Null Count  Dtype  \n",
      "---  ------       --------------  -----  \n",
      " 0   aluminium    7999 non-null   float64\n",
      " 1   ammonia      7996 non-null   float64\n",
      " 2   arsenic      7999 non-null   float64\n",
      " 3   barium       7999 non-null   float64\n",
      " 4   cadmium      7999 non-null   float64\n",
      " 5   chloramine   7999 non-null   float64\n",
      " 6   chromium     7999 non-null   float64\n",
      " 7   copper       7999 non-null   float64\n",
      " 8   flouride     7999 non-null   float64\n",
      " 9   bacteria     7999 non-null   float64\n",
      " 10  viruses      7999 non-null   float64\n",
      " 11  lead         7999 non-null   float64\n",
      " 12  nitrates     7999 non-null   float64\n",
      " 13  nitrites     7999 non-null   float64\n",
      " 14  mercury      7999 non-null   float64\n",
      " 15  perchlorate  7999 non-null   float64\n",
      " 16  radium       7999 non-null   float64\n",
      " 17  selenium     7999 non-null   float64\n",
      " 18  silver       7999 non-null   float64\n",
      " 19  uranium      7999 non-null   float64\n",
      " 20  is_safe      7996 non-null   float64\n",
      "dtypes: float64(21)\n",
      "memory usage: 1.3 MB\n"
     ]
    }
   ],
   "source": [
    "df.info()"
   ]
  },
  {
   "cell_type": "code",
   "execution_count": 8,
   "id": "254d9baf",
   "metadata": {},
   "outputs": [],
   "source": [
    "from sklearn.impute import SimpleImputer\n",
    "SI=SimpleImputer(missing_values=np.nan,strategy=\"mean\") \n",
    "df[[\"ammonia\"]]=SI.fit_transform(df[[\"ammonia\"]])"
   ]
  },
  {
   "cell_type": "code",
   "execution_count": 9,
   "id": "fa10ab79",
   "metadata": {},
   "outputs": [
    {
     "name": "stdout",
     "output_type": "stream",
     "text": [
      "<class 'pandas.core.frame.DataFrame'>\n",
      "RangeIndex: 7999 entries, 0 to 7998\n",
      "Data columns (total 21 columns):\n",
      " #   Column       Non-Null Count  Dtype  \n",
      "---  ------       --------------  -----  \n",
      " 0   aluminium    7999 non-null   float64\n",
      " 1   ammonia      7999 non-null   float64\n",
      " 2   arsenic      7999 non-null   float64\n",
      " 3   barium       7999 non-null   float64\n",
      " 4   cadmium      7999 non-null   float64\n",
      " 5   chloramine   7999 non-null   float64\n",
      " 6   chromium     7999 non-null   float64\n",
      " 7   copper       7999 non-null   float64\n",
      " 8   flouride     7999 non-null   float64\n",
      " 9   bacteria     7999 non-null   float64\n",
      " 10  viruses      7999 non-null   float64\n",
      " 11  lead         7999 non-null   float64\n",
      " 12  nitrates     7999 non-null   float64\n",
      " 13  nitrites     7999 non-null   float64\n",
      " 14  mercury      7999 non-null   float64\n",
      " 15  perchlorate  7999 non-null   float64\n",
      " 16  radium       7999 non-null   float64\n",
      " 17  selenium     7999 non-null   float64\n",
      " 18  silver       7999 non-null   float64\n",
      " 19  uranium      7999 non-null   float64\n",
      " 20  is_safe      7996 non-null   float64\n",
      "dtypes: float64(21)\n",
      "memory usage: 1.3 MB\n"
     ]
    }
   ],
   "source": [
    "df.info()"
   ]
  },
  {
   "cell_type": "code",
   "execution_count": 10,
   "id": "1ea0d45f",
   "metadata": {},
   "outputs": [],
   "source": [
    "df['is_safe'] = df['is_safe'].fillna(0)"
   ]
  },
  {
   "cell_type": "code",
   "execution_count": 11,
   "id": "233ecbbc",
   "metadata": {},
   "outputs": [
    {
     "name": "stdout",
     "output_type": "stream",
     "text": [
      "<class 'pandas.core.frame.DataFrame'>\n",
      "RangeIndex: 7999 entries, 0 to 7998\n",
      "Data columns (total 21 columns):\n",
      " #   Column       Non-Null Count  Dtype  \n",
      "---  ------       --------------  -----  \n",
      " 0   aluminium    7999 non-null   float64\n",
      " 1   ammonia      7999 non-null   float64\n",
      " 2   arsenic      7999 non-null   float64\n",
      " 3   barium       7999 non-null   float64\n",
      " 4   cadmium      7999 non-null   float64\n",
      " 5   chloramine   7999 non-null   float64\n",
      " 6   chromium     7999 non-null   float64\n",
      " 7   copper       7999 non-null   float64\n",
      " 8   flouride     7999 non-null   float64\n",
      " 9   bacteria     7999 non-null   float64\n",
      " 10  viruses      7999 non-null   float64\n",
      " 11  lead         7999 non-null   float64\n",
      " 12  nitrates     7999 non-null   float64\n",
      " 13  nitrites     7999 non-null   float64\n",
      " 14  mercury      7999 non-null   float64\n",
      " 15  perchlorate  7999 non-null   float64\n",
      " 16  radium       7999 non-null   float64\n",
      " 17  selenium     7999 non-null   float64\n",
      " 18  silver       7999 non-null   float64\n",
      " 19  uranium      7999 non-null   float64\n",
      " 20  is_safe      7999 non-null   float64\n",
      "dtypes: float64(21)\n",
      "memory usage: 1.3 MB\n"
     ]
    }
   ],
   "source": [
    "df.info()"
   ]
  },
  {
   "cell_type": "code",
   "execution_count": 12,
   "id": "8e76c092",
   "metadata": {},
   "outputs": [],
   "source": [
    "x=df.iloc[:,:-1]\n",
    "y=df.iloc[:,-1] "
   ]
  },
  {
   "cell_type": "code",
   "execution_count": 13,
   "id": "188932b0",
   "metadata": {},
   "outputs": [
    {
     "data": {
      "text/html": [
       "<div>\n",
       "<style scoped>\n",
       "    .dataframe tbody tr th:only-of-type {\n",
       "        vertical-align: middle;\n",
       "    }\n",
       "\n",
       "    .dataframe tbody tr th {\n",
       "        vertical-align: top;\n",
       "    }\n",
       "\n",
       "    .dataframe thead th {\n",
       "        text-align: right;\n",
       "    }\n",
       "</style>\n",
       "<table border=\"1\" class=\"dataframe\">\n",
       "  <thead>\n",
       "    <tr style=\"text-align: right;\">\n",
       "      <th></th>\n",
       "      <th>aluminium</th>\n",
       "      <th>ammonia</th>\n",
       "      <th>arsenic</th>\n",
       "      <th>barium</th>\n",
       "      <th>cadmium</th>\n",
       "      <th>chloramine</th>\n",
       "      <th>chromium</th>\n",
       "      <th>copper</th>\n",
       "      <th>flouride</th>\n",
       "      <th>bacteria</th>\n",
       "      <th>viruses</th>\n",
       "      <th>lead</th>\n",
       "      <th>nitrates</th>\n",
       "      <th>nitrites</th>\n",
       "      <th>mercury</th>\n",
       "      <th>perchlorate</th>\n",
       "      <th>radium</th>\n",
       "      <th>selenium</th>\n",
       "      <th>silver</th>\n",
       "      <th>uranium</th>\n",
       "    </tr>\n",
       "  </thead>\n",
       "  <tbody>\n",
       "    <tr>\n",
       "      <th>0</th>\n",
       "      <td>1.65</td>\n",
       "      <td>9.08</td>\n",
       "      <td>0.04</td>\n",
       "      <td>2.85</td>\n",
       "      <td>0.007</td>\n",
       "      <td>0.35</td>\n",
       "      <td>0.83</td>\n",
       "      <td>0.17</td>\n",
       "      <td>0.05</td>\n",
       "      <td>0.20</td>\n",
       "      <td>0.000</td>\n",
       "      <td>0.054</td>\n",
       "      <td>16.08</td>\n",
       "      <td>1.13</td>\n",
       "      <td>0.007</td>\n",
       "      <td>37.75</td>\n",
       "      <td>6.78</td>\n",
       "      <td>0.08</td>\n",
       "      <td>0.34</td>\n",
       "      <td>0.02</td>\n",
       "    </tr>\n",
       "    <tr>\n",
       "      <th>1</th>\n",
       "      <td>2.32</td>\n",
       "      <td>21.16</td>\n",
       "      <td>0.01</td>\n",
       "      <td>3.31</td>\n",
       "      <td>0.002</td>\n",
       "      <td>5.28</td>\n",
       "      <td>0.68</td>\n",
       "      <td>0.66</td>\n",
       "      <td>0.90</td>\n",
       "      <td>0.65</td>\n",
       "      <td>0.650</td>\n",
       "      <td>0.100</td>\n",
       "      <td>2.01</td>\n",
       "      <td>1.93</td>\n",
       "      <td>0.003</td>\n",
       "      <td>32.26</td>\n",
       "      <td>3.21</td>\n",
       "      <td>0.08</td>\n",
       "      <td>0.27</td>\n",
       "      <td>0.05</td>\n",
       "    </tr>\n",
       "    <tr>\n",
       "      <th>2</th>\n",
       "      <td>1.01</td>\n",
       "      <td>14.02</td>\n",
       "      <td>0.04</td>\n",
       "      <td>0.58</td>\n",
       "      <td>0.008</td>\n",
       "      <td>4.24</td>\n",
       "      <td>0.53</td>\n",
       "      <td>0.02</td>\n",
       "      <td>0.99</td>\n",
       "      <td>0.05</td>\n",
       "      <td>0.003</td>\n",
       "      <td>0.078</td>\n",
       "      <td>14.16</td>\n",
       "      <td>1.11</td>\n",
       "      <td>0.006</td>\n",
       "      <td>50.28</td>\n",
       "      <td>7.07</td>\n",
       "      <td>0.07</td>\n",
       "      <td>0.44</td>\n",
       "      <td>0.01</td>\n",
       "    </tr>\n",
       "    <tr>\n",
       "      <th>3</th>\n",
       "      <td>1.36</td>\n",
       "      <td>11.33</td>\n",
       "      <td>0.04</td>\n",
       "      <td>2.96</td>\n",
       "      <td>0.001</td>\n",
       "      <td>7.23</td>\n",
       "      <td>0.03</td>\n",
       "      <td>1.66</td>\n",
       "      <td>1.08</td>\n",
       "      <td>0.71</td>\n",
       "      <td>0.710</td>\n",
       "      <td>0.016</td>\n",
       "      <td>1.41</td>\n",
       "      <td>1.29</td>\n",
       "      <td>0.004</td>\n",
       "      <td>9.12</td>\n",
       "      <td>1.72</td>\n",
       "      <td>0.02</td>\n",
       "      <td>0.45</td>\n",
       "      <td>0.05</td>\n",
       "    </tr>\n",
       "    <tr>\n",
       "      <th>4</th>\n",
       "      <td>0.92</td>\n",
       "      <td>24.33</td>\n",
       "      <td>0.03</td>\n",
       "      <td>0.20</td>\n",
       "      <td>0.006</td>\n",
       "      <td>2.67</td>\n",
       "      <td>0.69</td>\n",
       "      <td>0.57</td>\n",
       "      <td>0.61</td>\n",
       "      <td>0.13</td>\n",
       "      <td>0.001</td>\n",
       "      <td>0.117</td>\n",
       "      <td>6.74</td>\n",
       "      <td>1.11</td>\n",
       "      <td>0.003</td>\n",
       "      <td>16.90</td>\n",
       "      <td>2.41</td>\n",
       "      <td>0.02</td>\n",
       "      <td>0.06</td>\n",
       "      <td>0.02</td>\n",
       "    </tr>\n",
       "    <tr>\n",
       "      <th>...</th>\n",
       "      <td>...</td>\n",
       "      <td>...</td>\n",
       "      <td>...</td>\n",
       "      <td>...</td>\n",
       "      <td>...</td>\n",
       "      <td>...</td>\n",
       "      <td>...</td>\n",
       "      <td>...</td>\n",
       "      <td>...</td>\n",
       "      <td>...</td>\n",
       "      <td>...</td>\n",
       "      <td>...</td>\n",
       "      <td>...</td>\n",
       "      <td>...</td>\n",
       "      <td>...</td>\n",
       "      <td>...</td>\n",
       "      <td>...</td>\n",
       "      <td>...</td>\n",
       "      <td>...</td>\n",
       "      <td>...</td>\n",
       "    </tr>\n",
       "    <tr>\n",
       "      <th>7994</th>\n",
       "      <td>0.05</td>\n",
       "      <td>7.78</td>\n",
       "      <td>0.00</td>\n",
       "      <td>1.95</td>\n",
       "      <td>0.040</td>\n",
       "      <td>0.10</td>\n",
       "      <td>0.03</td>\n",
       "      <td>0.03</td>\n",
       "      <td>1.37</td>\n",
       "      <td>0.00</td>\n",
       "      <td>0.000</td>\n",
       "      <td>0.197</td>\n",
       "      <td>14.29</td>\n",
       "      <td>1.00</td>\n",
       "      <td>0.005</td>\n",
       "      <td>3.57</td>\n",
       "      <td>2.13</td>\n",
       "      <td>0.09</td>\n",
       "      <td>0.06</td>\n",
       "      <td>0.03</td>\n",
       "    </tr>\n",
       "    <tr>\n",
       "      <th>7995</th>\n",
       "      <td>0.05</td>\n",
       "      <td>24.22</td>\n",
       "      <td>0.02</td>\n",
       "      <td>0.59</td>\n",
       "      <td>0.010</td>\n",
       "      <td>0.45</td>\n",
       "      <td>0.02</td>\n",
       "      <td>0.02</td>\n",
       "      <td>1.48</td>\n",
       "      <td>0.00</td>\n",
       "      <td>0.000</td>\n",
       "      <td>0.031</td>\n",
       "      <td>10.27</td>\n",
       "      <td>1.00</td>\n",
       "      <td>0.001</td>\n",
       "      <td>1.48</td>\n",
       "      <td>1.11</td>\n",
       "      <td>0.09</td>\n",
       "      <td>0.10</td>\n",
       "      <td>0.08</td>\n",
       "    </tr>\n",
       "    <tr>\n",
       "      <th>7996</th>\n",
       "      <td>0.09</td>\n",
       "      <td>6.85</td>\n",
       "      <td>0.00</td>\n",
       "      <td>0.61</td>\n",
       "      <td>0.030</td>\n",
       "      <td>0.05</td>\n",
       "      <td>0.05</td>\n",
       "      <td>0.02</td>\n",
       "      <td>0.91</td>\n",
       "      <td>0.00</td>\n",
       "      <td>0.000</td>\n",
       "      <td>0.182</td>\n",
       "      <td>15.92</td>\n",
       "      <td>1.00</td>\n",
       "      <td>0.000</td>\n",
       "      <td>1.35</td>\n",
       "      <td>4.84</td>\n",
       "      <td>0.00</td>\n",
       "      <td>0.04</td>\n",
       "      <td>0.05</td>\n",
       "    </tr>\n",
       "    <tr>\n",
       "      <th>7997</th>\n",
       "      <td>0.01</td>\n",
       "      <td>10.00</td>\n",
       "      <td>0.01</td>\n",
       "      <td>2.00</td>\n",
       "      <td>0.000</td>\n",
       "      <td>2.00</td>\n",
       "      <td>0.00</td>\n",
       "      <td>0.09</td>\n",
       "      <td>0.00</td>\n",
       "      <td>0.00</td>\n",
       "      <td>0.000</td>\n",
       "      <td>0.000</td>\n",
       "      <td>0.00</td>\n",
       "      <td>0.00</td>\n",
       "      <td>0.000</td>\n",
       "      <td>0.00</td>\n",
       "      <td>0.00</td>\n",
       "      <td>0.00</td>\n",
       "      <td>0.00</td>\n",
       "      <td>0.00</td>\n",
       "    </tr>\n",
       "    <tr>\n",
       "      <th>7998</th>\n",
       "      <td>0.04</td>\n",
       "      <td>6.85</td>\n",
       "      <td>0.01</td>\n",
       "      <td>0.70</td>\n",
       "      <td>0.030</td>\n",
       "      <td>0.05</td>\n",
       "      <td>0.01</td>\n",
       "      <td>0.03</td>\n",
       "      <td>1.00</td>\n",
       "      <td>0.00</td>\n",
       "      <td>0.000</td>\n",
       "      <td>0.182</td>\n",
       "      <td>15.92</td>\n",
       "      <td>1.00</td>\n",
       "      <td>0.000</td>\n",
       "      <td>1.35</td>\n",
       "      <td>4.84</td>\n",
       "      <td>0.00</td>\n",
       "      <td>0.04</td>\n",
       "      <td>0.05</td>\n",
       "    </tr>\n",
       "  </tbody>\n",
       "</table>\n",
       "<p>7999 rows × 20 columns</p>\n",
       "</div>"
      ],
      "text/plain": [
       "      aluminium  ammonia  arsenic  barium  cadmium  chloramine  chromium  \\\n",
       "0          1.65     9.08     0.04    2.85    0.007        0.35      0.83   \n",
       "1          2.32    21.16     0.01    3.31    0.002        5.28      0.68   \n",
       "2          1.01    14.02     0.04    0.58    0.008        4.24      0.53   \n",
       "3          1.36    11.33     0.04    2.96    0.001        7.23      0.03   \n",
       "4          0.92    24.33     0.03    0.20    0.006        2.67      0.69   \n",
       "...         ...      ...      ...     ...      ...         ...       ...   \n",
       "7994       0.05     7.78     0.00    1.95    0.040        0.10      0.03   \n",
       "7995       0.05    24.22     0.02    0.59    0.010        0.45      0.02   \n",
       "7996       0.09     6.85     0.00    0.61    0.030        0.05      0.05   \n",
       "7997       0.01    10.00     0.01    2.00    0.000        2.00      0.00   \n",
       "7998       0.04     6.85     0.01    0.70    0.030        0.05      0.01   \n",
       "\n",
       "      copper  flouride  bacteria  viruses   lead  nitrates  nitrites  mercury  \\\n",
       "0       0.17      0.05      0.20    0.000  0.054     16.08      1.13    0.007   \n",
       "1       0.66      0.90      0.65    0.650  0.100      2.01      1.93    0.003   \n",
       "2       0.02      0.99      0.05    0.003  0.078     14.16      1.11    0.006   \n",
       "3       1.66      1.08      0.71    0.710  0.016      1.41      1.29    0.004   \n",
       "4       0.57      0.61      0.13    0.001  0.117      6.74      1.11    0.003   \n",
       "...      ...       ...       ...      ...    ...       ...       ...      ...   \n",
       "7994    0.03      1.37      0.00    0.000  0.197     14.29      1.00    0.005   \n",
       "7995    0.02      1.48      0.00    0.000  0.031     10.27      1.00    0.001   \n",
       "7996    0.02      0.91      0.00    0.000  0.182     15.92      1.00    0.000   \n",
       "7997    0.09      0.00      0.00    0.000  0.000      0.00      0.00    0.000   \n",
       "7998    0.03      1.00      0.00    0.000  0.182     15.92      1.00    0.000   \n",
       "\n",
       "      perchlorate  radium  selenium  silver  uranium  \n",
       "0           37.75    6.78      0.08    0.34     0.02  \n",
       "1           32.26    3.21      0.08    0.27     0.05  \n",
       "2           50.28    7.07      0.07    0.44     0.01  \n",
       "3            9.12    1.72      0.02    0.45     0.05  \n",
       "4           16.90    2.41      0.02    0.06     0.02  \n",
       "...           ...     ...       ...     ...      ...  \n",
       "7994         3.57    2.13      0.09    0.06     0.03  \n",
       "7995         1.48    1.11      0.09    0.10     0.08  \n",
       "7996         1.35    4.84      0.00    0.04     0.05  \n",
       "7997         0.00    0.00      0.00    0.00     0.00  \n",
       "7998         1.35    4.84      0.00    0.04     0.05  \n",
       "\n",
       "[7999 rows x 20 columns]"
      ]
     },
     "execution_count": 13,
     "metadata": {},
     "output_type": "execute_result"
    }
   ],
   "source": [
    "x"
   ]
  },
  {
   "cell_type": "code",
   "execution_count": 14,
   "id": "42b3a5a0",
   "metadata": {},
   "outputs": [
    {
     "data": {
      "text/plain": [
       "0       1.0\n",
       "1       1.0\n",
       "2       0.0\n",
       "3       1.0\n",
       "4       1.0\n",
       "       ... \n",
       "7994    1.0\n",
       "7995    1.0\n",
       "7996    1.0\n",
       "7997    1.0\n",
       "7998    1.0\n",
       "Name: is_safe, Length: 7999, dtype: float64"
      ]
     },
     "execution_count": 14,
     "metadata": {},
     "output_type": "execute_result"
    }
   ],
   "source": [
    "y"
   ]
  },
  {
   "cell_type": "code",
   "execution_count": 15,
   "id": "2f1d680a",
   "metadata": {},
   "outputs": [
    {
     "data": {
      "text/plain": [
       "<AxesSubplot:>"
      ]
     },
     "execution_count": 15,
     "metadata": {},
     "output_type": "execute_result"
    },
    {
     "data": {
      "image/png": "[encoded data removed]",
      "text/plain": [
       "<Figure size 1000x1000 with 1 Axes>"
      ]
     },
     "metadata": {},
     "output_type": "display_data"
    }
   ],
   "source": [
    "x.corrwith(y).plot.bar(figsize=(10,10))"
   ]
  },
  {
   "cell_type": "markdown",
   "id": "5318543c",
   "metadata": {},
   "source": [
    "x.corrwith(y): \n",
    "\n",
    "This part of the code calculates the correlation between two Pandas Series or DataFrames, denoted as x and y. The corrwith function computes pairwise correlations. If x and y are DataFrames, it calculates the correlation between the matching columns. If they are Series, it calculates the correlation between the values of the two Series.\n",
    "\n",
    ".plot.bar(figsize=(10,10)): \n",
    "\n",
    "After calculating the correlation using corrwith, this code creates a bar plot of the correlation values. The plot.bar() function is used to create a bar chart, and figsize=(10,10) specifies the size of the figure in inches (width, height). In this case, the figure size is set to 10x10 inches."
   ]
  },
  {
   "cell_type": "markdown",
   "id": "17cef754",
   "metadata": {},
   "source": [
    "# Train Test Split for separating data into training and testing phase "
   ]
  },
  {
   "cell_type": "code",
   "execution_count": 16,
   "id": "e0e20205",
   "metadata": {},
   "outputs": [],
   "source": [
    "from sklearn.model_selection import train_test_split"
   ]
  },
  {
   "cell_type": "code",
   "execution_count": 17,
   "id": "1c555cf3",
   "metadata": {},
   "outputs": [],
   "source": [
    "x_train,x_test,y_train,y_test=train_test_split(x,y,test_size=0.2,random_state = 1)"
   ]
  },
  {
   "cell_type": "markdown",
   "id": "135b124e",
   "metadata": {},
   "source": [
    "This line of code is using the train_test_split function from the sklearn.model_selection module in Python. \n",
    "This function is commonly used in machine learning to split a dataset into two subsets: one for training the model and another for testing the model's performance. \n",
    "\n",
    "x and y are the input features and corresponding labels respectively of your dataset.\n",
    "\n",
    "test_size=0.2 specifies that 20% of the data will be used for testing the model, and the remaining 80% will be used for training. This is a common split ratio, but you can adjust it based on your specific use case.\n",
    "\n",
    "random_state=1 is an optional parameter that sets the random seed for the random number generator. This ensures that every time you run the code, the data is split in the same way. Setting a random seed is important for reproducibility; it allows you to obtain the same train-test split every time you run the code. \n",
    "\n",
    "After this line of code is executed,data will split into four variables:\n",
    "\n",
    "x_train: This variable contains the input features for the training set.\n",
    "\n",
    "x_test: This variable contains the input features for the testing set.\n",
    "\n",
    "y_train: This variable contains the corresponding labels for the training set.\n",
    "\n",
    "y_test: This variable contains the corresponding labels for the testing set.\n",
    "\n",
    "These variables are then typically used to train a machine learning model on the x_train and y_train data and evaluate the model's performance on the x_test and y_test data. This division is essential for assessing how well the trained model generalizes to unseen data."
   ]
  },
  {
   "cell_type": "code",
   "execution_count": 18,
   "id": "7d5ca82d",
   "metadata": {},
   "outputs": [
    {
     "data": {
      "text/plain": [
       "(6399, 20)"
      ]
     },
     "execution_count": 18,
     "metadata": {},
     "output_type": "execute_result"
    }
   ],
   "source": [
    "x_train.shape"
   ]
  },
  {
   "cell_type": "code",
   "execution_count": 19,
   "id": "5866d901",
   "metadata": {},
   "outputs": [
    {
     "data": {
      "text/plain": [
       "(1600, 20)"
      ]
     },
     "execution_count": 19,
     "metadata": {},
     "output_type": "execute_result"
    }
   ],
   "source": [
    "x_test.shape"
   ]
  },
  {
   "cell_type": "code",
   "execution_count": 20,
   "id": "0aa39ab9",
   "metadata": {},
   "outputs": [
    {
     "data": {
      "text/plain": [
       "(6399,)"
      ]
     },
     "execution_count": 20,
     "metadata": {},
     "output_type": "execute_result"
    }
   ],
   "source": [
    "y_train.shape"
   ]
  },
  {
   "cell_type": "code",
   "execution_count": 21,
   "id": "47b33f7c",
   "metadata": {},
   "outputs": [
    {
     "data": {
      "text/plain": [
       "(1600,)"
      ]
     },
     "execution_count": 21,
     "metadata": {},
     "output_type": "execute_result"
    }
   ],
   "source": [
    "y_test.shape"
   ]
  },
  {
   "cell_type": "markdown",
   "id": "f9635428",
   "metadata": {},
   "source": [
    "# Applying Standard Scaler to scale the data at one Level"
   ]
  },
  {
   "cell_type": "code",
   "execution_count": 22,
   "id": "317ca56d",
   "metadata": {},
   "outputs": [],
   "source": [
    "from sklearn.preprocessing import StandardScaler"
   ]
  },
  {
   "cell_type": "markdown",
   "id": "743d46d5",
   "metadata": {},
   "source": [
    "Defination of Standardization:\n",
    "\n",
    "Here all the features will be transformed in such a way that it will have the properties of a Standard Normal Distribution with mean = 0 & Standard Deviation is 1.\n",
    "\n",
    " Z-Score Normailzation (Standardization) = ( Feature Value - Mean ) / Standard Deviation."
   ]
  },
  {
   "cell_type": "code",
   "execution_count": 23,
   "id": "61cb1436",
   "metadata": {},
   "outputs": [],
   "source": [
    "sc=StandardScaler()\n",
    "x_train=sc.fit_transform(x_train)\n",
    "x_test=sc.transform(x_test)"
   ]
  },
  {
   "cell_type": "code",
   "execution_count": 24,
   "id": "9e62d9fe",
   "metadata": {},
   "outputs": [
    {
     "data": {
      "text/plain": [
       "array([[-0.48911551,  0.63850406, -0.40703972, ...,  0.3565099 ,\n",
       "        -0.89201178,  0.56275943],\n",
       "       [ 1.05737399, -0.70653932, -0.4858996 , ...,  1.39804401,\n",
       "         0.15052957,  0.93542813],\n",
       "       [-0.48911551,  0.62842464, -0.4858996 , ...,  0.00933187,\n",
       "        -0.47499524,  0.19009074],\n",
       "       ...,\n",
       "       [-0.51278627,  0.33836116,  0.10554949, ..., -1.72655831,\n",
       "        -0.544498  , -0.92791535],\n",
       "       [ 0.57606859, -0.98204363, -0.4858996 , ..., -1.72655831,\n",
       "         2.23561226,  1.30809682],\n",
       "       [-0.51278627,  0.52091076, -0.40703972, ...,  0.3565099 ,\n",
       "        -0.40549248, -0.92791535]])"
      ]
     },
     "execution_count": 24,
     "metadata": {},
     "output_type": "execute_result"
    }
   ],
   "source": [
    "x_train"
   ]
  },
  {
   "cell_type": "code",
   "execution_count": 25,
   "id": "d7653258",
   "metadata": {},
   "outputs": [
    {
     "data": {
      "text/plain": [
       "array([[-0.46544475, -0.41087616, -0.2887499 , ...,  1.39804401,\n",
       "        -0.68350351, -0.92791535],\n",
       "       [-0.48122526,  0.15917137, -0.2887499 , ..., -0.33784617,\n",
       "        -0.40549248,  0.93542813],\n",
       "       [-0.48122526,  0.36411969, -0.44646966, ...,  0.00933187,\n",
       "        -0.82250902,  0.19009074],\n",
       "       ...,\n",
       "       [-0.49700576,  0.74601794, -0.4858996 , ...,  1.05086597,\n",
       "        -0.40549248,  0.93542813],\n",
       "       [ 1.94897253, -0.72333836, -0.56475947, ...,  0.3565099 ,\n",
       "         0.22003232, -0.55524665],\n",
       "       [-0.4575545 ,  0.56458827, -0.36760978, ..., -0.6850242 ,\n",
       "        -1.03101729,  0.19009074]])"
      ]
     },
     "execution_count": 25,
     "metadata": {},
     "output_type": "execute_result"
    }
   ],
   "source": [
    "x_test"
   ]
  },
  {
   "cell_type": "markdown",
   "id": "7db2f888",
   "metadata": {},
   "source": [
    "# Training model on Logistic Regression"
   ]
  },
  {
   "cell_type": "code",
   "execution_count": 26,
   "id": "783d37e7",
   "metadata": {},
   "outputs": [],
   "source": [
    "from sklearn.linear_model import LogisticRegression"
   ]
  },
  {
   "cell_type": "code",
   "execution_count": 27,
   "id": "d0868c27",
   "metadata": {},
   "outputs": [],
   "source": [
    "reg=LogisticRegression()\n",
    "reg.fit(x_train,y_train)\n",
    "y_pred_train=reg.predict(x_train)\n",
    "y_pred_test=reg.predict(x_test)"
   ]
  },
  {
   "cell_type": "code",
   "execution_count": 28,
   "id": "785504ce",
   "metadata": {},
   "outputs": [],
   "source": [
    "from sklearn.metrics import accuracy_score,confusion_matrix,r2_score,mean_squared_error"
   ]
  },
  {
   "cell_type": "code",
   "execution_count": 29,
   "id": "78516223",
   "metadata": {},
   "outputs": [
    {
     "name": "stdout",
     "output_type": "stream",
     "text": [
      "Train Data\n",
      "[[5554  107]\n",
      " [ 461  277]]\n",
      "Test Data\n",
      "[[1387   39]\n",
      " [ 127   47]]\n"
     ]
    }
   ],
   "source": [
    "print(\"Train Data\")\n",
    "print(confusion_matrix(y_train,y_pred_train))\n",
    "print(\"Test Data\")\n",
    "print(confusion_matrix(y_test,y_pred_test))"
   ]
  },
  {
   "cell_type": "code",
   "execution_count": 30,
   "id": "546cb5dd",
   "metadata": {},
   "outputs": [
    {
     "name": "stdout",
     "output_type": "stream",
     "text": [
      "Train Data\n",
      "0.9112361306454133\n",
      "Test Data\n",
      "0.89625\n"
     ]
    }
   ],
   "source": [
    "print(\"Train Data\")\n",
    "print(accuracy_score(y_train,y_pred_train))\n",
    "print(\"Test Data\")\n",
    "print(accuracy_score(y_test,y_pred_test))"
   ]
  },
  {
   "cell_type": "code",
   "execution_count": 31,
   "id": "48de9992",
   "metadata": {},
   "outputs": [
    {
     "data": {
      "text/plain": [
       "array([0.01774639, 0.57487707, 0.10385996, ..., 0.04281943, 0.07355921,\n",
       "       0.01876592])"
      ]
     },
     "execution_count": 31,
     "metadata": {},
     "output_type": "execute_result"
    }
   ],
   "source": [
    "y_train_proba=reg.predict_proba(x_train)[:,1]\n",
    "y_train_proba"
   ]
  },
  {
   "cell_type": "markdown",
   "id": "34c2826a",
   "metadata": {},
   "source": [
    "1] reg is likely a trained machine learning classifier, such as a logistic regression model or a random forest classifier.\n",
    "\n",
    "2] x_train represents the input features of the training data.\n",
    "\n",
    "3] reg.predict_proba(x_train) predicts the probabilities of the classes for each sample in the training data. In binary classification, this typically returns a 2D array where each row corresponds to a sample, and each column corresponds to the probability of belonging to one of the two classes.\n",
    "\n",
    "4] [:, 1] is a slicing operation on the predicted probabilities. It selects the second column (index 1) of the 2D array. In binary classification, the second column usually represents the probability of the positive class (class 1). So, y_train_proba now contains the predicted probabilities of the positive class for each sample in the training data.\n",
    "\n",
    "5] y_train_proba : This variable holds the predicted probabilities of the positive class (class 1) for each sample in the training data"
   ]
  },
  {
   "cell_type": "code",
   "execution_count": 32,
   "id": "d3dca7f8",
   "metadata": {},
   "outputs": [
    {
     "data": {
      "text/plain": [
       "array([0.23844764, 0.03209735, 0.02395239, ..., 0.01101103, 0.45341799,\n",
       "       0.03395028])"
      ]
     },
     "execution_count": 32,
     "metadata": {},
     "output_type": "execute_result"
    }
   ],
   "source": [
    "y_test_proba=reg.predict_proba(x_test)[:,1]\n",
    "y_test_proba"
   ]
  },
  {
   "cell_type": "markdown",
   "id": "9d19a59b",
   "metadata": {},
   "source": [
    "# Classification Report of Model train on Logistic Regression\n",
    "\n",
    "Classification_report function is used to evaluate the performance of a Logistic Regression model on a test dataset (x_test, y_test). The function compares the true labels (y_test) with the predicted labels (predictions) and generates a report containing precision, recall, F1-score, and support for each class in the classification problem.\n",
    "\n",
    "Precision: Precision is the ratio of correctly predicted positive observations to the total predicted positive observations. It is also called Positive Predictive Value. High precision relates to the low false positive rate.\n",
    "\n",
    "Recall (Sensitivity): Recall is the ratio of correctly predicted positive observations to the all observations in the actual class. It is also called True Positive Rate or Sensitivity. High recall relates to the low false negative rate.\n",
    "\n",
    "F1-Score: F1-Score is the weighted average of Precision and Recall. Therefore, this score takes both false positives and false negatives into account. It is a good way to show that a classifer has a good value for both recall and precision.\n",
    "\n",
    "Support: Support is the number of actual occurrences of the class in the specified dataset. Imbalanced support in the training data may indicate structural weaknesses in the reported scores."
   ]
  },
  {
   "cell_type": "code",
   "execution_count": 33,
   "id": "cbc65296",
   "metadata": {},
   "outputs": [],
   "source": [
    "from sklearn.metrics import classification_report"
   ]
  },
  {
   "cell_type": "code",
   "execution_count": 34,
   "id": "59373fcd",
   "metadata": {},
   "outputs": [
    {
     "name": "stdout",
     "output_type": "stream",
     "text": [
      "Train Data\n",
      "              precision    recall  f1-score   support\n",
      "\n",
      "         0.0       0.92      0.98      0.95      5661\n",
      "         1.0       0.72      0.38      0.49       738\n",
      "\n",
      "    accuracy                           0.91      6399\n",
      "   macro avg       0.82      0.68      0.72      6399\n",
      "weighted avg       0.90      0.91      0.90      6399\n",
      "\n",
      "Test Data\n",
      "              precision    recall  f1-score   support\n",
      "\n",
      "         0.0       0.92      0.97      0.94      1426\n",
      "         1.0       0.55      0.27      0.36       174\n",
      "\n",
      "    accuracy                           0.90      1600\n",
      "   macro avg       0.73      0.62      0.65      1600\n",
      "weighted avg       0.88      0.90      0.88      1600\n",
      "\n"
     ]
    }
   ],
   "source": [
    "print(\"Train Data\")\n",
    "print(classification_report(y_train,y_pred_train))\n",
    "print(\"Test Data\")\n",
    "print(classification_report(y_test,y_pred_test))"
   ]
  },
  {
   "cell_type": "markdown",
   "id": "75dc54bb",
   "metadata": {},
   "source": [
    "# Hyper Parametr Tuning "
   ]
  },
  {
   "cell_type": "code",
   "execution_count": 35,
   "id": "22326ce1",
   "metadata": {},
   "outputs": [],
   "source": [
    "from sklearn.model_selection import GridSearchCV\n",
    "parameter={'penalty':['l1','l2','elasticnet'],\n",
    "           'C':[1,2,3,4,5,6,10,20,30,40,50],\n",
    "           'max_iter':[100,200,300],\n",
    "           'solver':['lbfgs', 'liblinear', 'newton-cg', 'newton-cholesky', 'sag', 'saga']}"
   ]
  },
  {
   "cell_type": "code",
   "execution_count": 36,
   "id": "24804552",
   "metadata": {},
   "outputs": [],
   "source": [
    "classifier_regressor=GridSearchCV(reg,param_grid=parameter,scoring='accuracy',cv=5)"
   ]
  },
  {
   "cell_type": "code",
   "execution_count": 37,
   "id": "56e9b3a5",
   "metadata": {},
   "outputs": [
    {
     "data": {
      "text/plain": [
       "GridSearchCV(cv=5, estimator=LogisticRegression(),\n",
       "             param_grid={'C': [1, 2, 3, 4, 5, 6, 10, 20, 30, 40, 50],\n",
       "                         'max_iter': [100, 200, 300],\n",
       "                         'penalty': ['l1', 'l2', 'elasticnet'],\n",
       "                         'solver': ['lbfgs', 'liblinear', 'newton-cg',\n",
       "                                    'newton-cholesky', 'sag', 'saga']},\n",
       "             scoring='accuracy')"
      ]
     },
     "execution_count": 37,
     "metadata": {},
     "output_type": "execute_result"
    }
   ],
   "source": [
    "classifier_regressor.fit(x_train,y_train)"
   ]
  },
  {
   "cell_type": "code",
   "execution_count": 38,
   "id": "5c2881a8",
   "metadata": {},
   "outputs": [
    {
     "name": "stdout",
     "output_type": "stream",
     "text": [
      "{'C': 1, 'max_iter': 100, 'penalty': 'l2', 'solver': 'lbfgs'}\n"
     ]
    }
   ],
   "source": [
    "print(classifier_regressor.best_params_)"
   ]
  },
  {
   "cell_type": "code",
   "execution_count": 39,
   "id": "fbdf70c1",
   "metadata": {},
   "outputs": [
    {
     "name": "stdout",
     "output_type": "stream",
     "text": [
      "0.9093608287724784\n"
     ]
    }
   ],
   "source": [
    "print(classifier_regressor.best_score_)"
   ]
  },
  {
   "cell_type": "code",
   "execution_count": 40,
   "id": "0e7abbe7",
   "metadata": {},
   "outputs": [],
   "source": [
    "y_pred_traint=classifier_regressor.predict(x_train)\n",
    "y_pred_test=classifier_regressor.predict(x_test)"
   ]
  },
  {
   "cell_type": "code",
   "execution_count": 41,
   "id": "4f9e212c",
   "metadata": {},
   "outputs": [],
   "source": [
    "from sklearn.metrics import accuracy_score,classification_report"
   ]
  },
  {
   "cell_type": "markdown",
   "id": "d7925aa6",
   "metadata": {},
   "source": [
    "# Classification Report of Model train on Logistic Regression(Hypertune)"
   ]
  },
  {
   "cell_type": "code",
   "execution_count": 42,
   "id": "148a40f1",
   "metadata": {},
   "outputs": [
    {
     "name": "stdout",
     "output_type": "stream",
     "text": [
      "              precision    recall  f1-score   support\n",
      "\n",
      "         0.0       0.98      0.92      0.95      6015\n",
      "         1.0       0.38      0.72      0.49       384\n",
      "\n",
      "    accuracy                           0.91      6399\n",
      "   macro avg       0.68      0.82      0.72      6399\n",
      "weighted avg       0.94      0.91      0.92      6399\n",
      "\n"
     ]
    }
   ],
   "source": [
    "print(classification_report(y_pred_train,y_train))"
   ]
  },
  {
   "cell_type": "code",
   "execution_count": 43,
   "id": "64010ffd",
   "metadata": {},
   "outputs": [
    {
     "name": "stdout",
     "output_type": "stream",
     "text": [
      "              precision    recall  f1-score   support\n",
      "\n",
      "         0.0       0.97      0.92      0.94      1514\n",
      "         1.0       0.27      0.55      0.36        86\n",
      "\n",
      "    accuracy                           0.90      1600\n",
      "   macro avg       0.62      0.73      0.65      1600\n",
      "weighted avg       0.93      0.90      0.91      1600\n",
      "\n"
     ]
    }
   ],
   "source": [
    "print(classification_report(y_pred_test,y_test))"
   ]
  },
  {
   "cell_type": "markdown",
   "id": "2efdba1a",
   "metadata": {},
   "source": [
    "# PR Curve"
   ]
  },
  {
   "cell_type": "code",
   "execution_count": 44,
   "id": "dc4b4b4b",
   "metadata": {},
   "outputs": [],
   "source": [
    "from sklearn.metrics import precision_recall_curve"
   ]
  },
  {
   "cell_type": "code",
   "execution_count": 45,
   "id": "79bb336a",
   "metadata": {},
   "outputs": [],
   "source": [
    "p,r,th=precision_recall_curve(y_train,y_train_proba)"
   ]
  },
  {
   "cell_type": "code",
   "execution_count": 46,
   "id": "98ac7ec8",
   "metadata": {},
   "outputs": [
    {
     "data": {
      "text/plain": [
       "(6277,)"
      ]
     },
     "execution_count": 46,
     "metadata": {},
     "output_type": "execute_result"
    }
   ],
   "source": [
    "p.shape"
   ]
  },
  {
   "cell_type": "code",
   "execution_count": 47,
   "id": "339a9103",
   "metadata": {},
   "outputs": [
    {
     "data": {
      "text/plain": [
       "(6277,)"
      ]
     },
     "execution_count": 47,
     "metadata": {},
     "output_type": "execute_result"
    }
   ],
   "source": [
    "r.shape"
   ]
  },
  {
   "cell_type": "code",
   "execution_count": 48,
   "id": "78258812",
   "metadata": {},
   "outputs": [
    {
     "data": {
      "text/plain": [
       "(6276,)"
      ]
     },
     "execution_count": 48,
     "metadata": {},
     "output_type": "execute_result"
    }
   ],
   "source": [
    "th.shape"
   ]
  },
  {
   "cell_type": "code",
   "execution_count": 49,
   "id": "972de00e",
   "metadata": {},
   "outputs": [
    {
     "data": {
      "image/png": "[encoded data removed]",
      "text/plain": [
       "<Figure size 600x600 with 1 Axes>"
      ]
     },
     "metadata": {},
     "output_type": "display_data"
    }
   ],
   "source": [
    "plt.figure(figsize=(6,6))\n",
    "sns.lineplot(x=th,y=p[:-1],label=\"precision\")\n",
    "sns.lineplot(x=th,y=r[:-1],label=\"Recall\")\n",
    "plt.title(\"Precision Recall Curve\")\n",
    "plt.axvline(0.282) #a vertical line at x-coordinate 0.282\n",
    "plt.show()"
   ]
  },
  {
   "cell_type": "code",
   "execution_count": 50,
   "id": "37cc9cc8",
   "metadata": {},
   "outputs": [],
   "source": [
    "from sklearn.metrics import accuracy_score,recall_score,precision_score,roc_auc_score,f1_score"
   ]
  },
  {
   "cell_type": "code",
   "execution_count": 51,
   "id": "04b2e09d",
   "metadata": {},
   "outputs": [],
   "source": [
    "def metrics(y_actual,y_proba,th):\n",
    "    y_pred_temp=[1 if p>th else 0 for p in y_proba]\n",
    "    accuracy=accuracy_score(y_actual,y_pred_temp)\n",
    "    recall=recall_score(y_actual,y_pred_temp)\n",
    "    precision=precision_score(y_actual,y_pred_temp)\n",
    "    f1=f1_score(y_actual,y_pred_temp)\n",
    "    roc_auc=roc_auc_score(y_actual,y_pred_temp)\n",
    "    return {\"Accuracy\":round(accuracy,2),'Recall':round(recall,2),'Precision':round(precision,2),\n",
    "            'F1_Score':round(f1,2),'ROC_AUC':round(roc_auc,2)}"
   ]
  },
  {
   "cell_type": "code",
   "execution_count": 52,
   "id": "da5ee34c",
   "metadata": {},
   "outputs": [
    {
     "name": "stdout",
     "output_type": "stream",
     "text": [
      "Train Data\n",
      "{'Accuracy': 0.91, 'Recall': 0.46, 'Precision': 0.63, 'F1_Score': 0.53, 'ROC_AUC': 0.71}\n",
      "Test Data\n",
      "{'Accuracy': 0.9, 'Recall': 0.39, 'Precision': 0.53, 'F1_Score': 0.45, 'ROC_AUC': 0.67}\n"
     ]
    }
   ],
   "source": [
    "print(\"Train Data\")\n",
    "print(metrics(y_train,y_train_proba,0.386))\n",
    "print(\"Test Data\")\n",
    "print(metrics(y_test,y_test_proba,0.386))"
   ]
  },
  {
   "cell_type": "code",
   "execution_count": 53,
   "id": "89ebf697",
   "metadata": {},
   "outputs": [],
   "source": [
    "from sklearn.metrics import roc_curve,auc"
   ]
  },
  {
   "cell_type": "code",
   "execution_count": 54,
   "id": "945a7262",
   "metadata": {},
   "outputs": [],
   "source": [
    "fpr,tpr,th=roc_curve(y_train,y_train_proba)"
   ]
  },
  {
   "cell_type": "code",
   "execution_count": 55,
   "id": "e6f3d4f3",
   "metadata": {},
   "outputs": [
    {
     "data": {
      "image/png": "[encoded data removed]",
      "text/plain": [
       "<Figure size 600x600 with 1 Axes>"
      ]
     },
     "metadata": {},
     "output_type": "display_data"
    }
   ],
   "source": [
    "plt.figure(figsize=(6,6))\n",
    "sns.lineplot(x=fpr,y=tpr)\n",
    "sns.lineplot(x=[0.0,1],y=[0.0,1],color='red',linestyle='--')\n",
    "plt.xlabel(\"FPR\")\n",
    "plt.ylabel(\"TPR\")\n",
    "plt.title('ROC AUC Curve')\n",
    "plt.show()"
   ]
  },
  {
   "cell_type": "markdown",
   "id": "f204d2f4",
   "metadata": {},
   "source": [
    "# Applying K-nearest Neighbours"
   ]
  },
  {
   "cell_type": "code",
   "execution_count": 56,
   "id": "2810c690",
   "metadata": {},
   "outputs": [],
   "source": [
    "from sklearn.neighbors import KNeighborsClassifier"
   ]
  },
  {
   "cell_type": "code",
   "execution_count": 57,
   "id": "69f7d3ef",
   "metadata": {},
   "outputs": [],
   "source": [
    "clf=KNeighborsClassifier(n_neighbors=5)\n",
    "clf.fit(x_train,y_train)\n",
    "y_pred_train=clf.predict(x_train)\n",
    "y_pred_text=clf.predict(x_test)"
   ]
  },
  {
   "cell_type": "code",
   "execution_count": 58,
   "id": "8898dda7",
   "metadata": {},
   "outputs": [],
   "source": [
    "from sklearn.metrics import confusion_matrix,f1_score"
   ]
  },
  {
   "cell_type": "markdown",
   "id": "29855084",
   "metadata": {},
   "source": [
    "## Classification Report"
   ]
  },
  {
   "cell_type": "code",
   "execution_count": 59,
   "id": "32f408fb",
   "metadata": {},
   "outputs": [
    {
     "name": "stdout",
     "output_type": "stream",
     "text": [
      "Train Data\n",
      "              precision    recall  f1-score   support\n",
      "\n",
      "         0.0       0.94      0.99      0.96      5661\n",
      "         1.0       0.86      0.52      0.65       738\n",
      "\n",
      "    accuracy                           0.93      6399\n",
      "   macro avg       0.90      0.75      0.81      6399\n",
      "weighted avg       0.93      0.93      0.93      6399\n",
      "\n",
      "Test Data\n",
      "              precision    recall  f1-score   support\n",
      "\n",
      "         0.0       0.92      0.97      0.94      1426\n",
      "         1.0       0.55      0.27      0.36       174\n",
      "\n",
      "    accuracy                           0.90      1600\n",
      "   macro avg       0.73      0.62      0.65      1600\n",
      "weighted avg       0.88      0.90      0.88      1600\n",
      "\n"
     ]
    }
   ],
   "source": [
    "print(\"Train Data\")\n",
    "print(classification_report(y_train,y_pred_train))\n",
    "print(\"Test Data\")\n",
    "print(classification_report(y_test,y_pred_test))"
   ]
  },
  {
   "cell_type": "markdown",
   "id": "94d738b5",
   "metadata": {},
   "source": [
    "# Hyper-Parameter Tuning"
   ]
  },
  {
   "cell_type": "code",
   "execution_count": 60,
   "id": "f066e04b",
   "metadata": {},
   "outputs": [],
   "source": [
    "Parameter_clf={\"n_neighbors\":[1,2,3,4,5,6,7,8,9,10,11,12,13,14,15], \n",
    "           \"metric\":[\"euclidean\",\"minikowski\",\"manhattan\"],   \n",
    "           \"weights\":[\"uniform\",\"distance\"]}"
   ]
  },
  {
   "cell_type": "markdown",
   "id": "cbeefda3",
   "metadata": {},
   "source": [
    "1) n_neighborsint, default=5\n",
    "\n",
    "   Number of neighbors to use by default for kneighbors queries.\n",
    "\n",
    "2) weights{‘uniform’, ‘distance’}, callable or None, default=’uniform’\n",
    "\n",
    "   Weight function used in prediction. Possible values:\n",
    "\n",
    "   ‘uniform’ : uniform weights. All points in each neighborhood are weighted equally.\n",
    "\n",
    "   ‘distance’ : weight points by the inverse of their distance. in this case, closer neighbors of a query point will have a     greater influence than neighbors which are further away.\n",
    "\n",
    "    Callable: a user-defined function which accepts an array of distances, and returns an array of the same shape    containing the weights."
   ]
  },
  {
   "cell_type": "code",
   "execution_count": 61,
   "id": "4f281195",
   "metadata": {},
   "outputs": [],
   "source": [
    "from sklearn.model_selection import GridSearchCV"
   ]
  },
  {
   "cell_type": "code",
   "execution_count": 62,
   "id": "79bf3766",
   "metadata": {},
   "outputs": [
    {
     "data": {
      "text/plain": [
       "GridSearchCV(cv=5, estimator=KNeighborsClassifier(), n_jobs=-1,\n",
       "             param_grid={'metric': ['euclidean', 'minikowski', 'manhattan'],\n",
       "                         'n_neighbors': [1, 2, 3, 4, 5, 6, 7, 8, 9, 10, 11, 12,\n",
       "                                         13, 14, 15],\n",
       "                         'weights': ['uniform', 'distance']},\n",
       "             scoring='accuracy')"
      ]
     },
     "execution_count": 62,
     "metadata": {},
     "output_type": "execute_result"
    }
   ],
   "source": [
    "model=GridSearchCV(clf,param_grid=Parameter_clf,cv=5,n_jobs=-1,scoring=\"accuracy\") \n",
    "model.fit(x_train,y_train)"
   ]
  },
  {
   "cell_type": "code",
   "execution_count": 63,
   "id": "d508b6fd",
   "metadata": {},
   "outputs": [
    {
     "data": {
      "text/plain": [
       "{'metric': 'euclidean', 'n_neighbors': 11, 'weights': 'uniform'}"
      ]
     },
     "execution_count": 63,
     "metadata": {},
     "output_type": "execute_result"
    }
   ],
   "source": [
    "model.best_params_"
   ]
  },
  {
   "cell_type": "code",
   "execution_count": 64,
   "id": "91fbbd1e",
   "metadata": {},
   "outputs": [
    {
     "data": {
      "text/plain": [
       "0.9160817777560595"
      ]
     },
     "execution_count": 64,
     "metadata": {},
     "output_type": "execute_result"
    }
   ],
   "source": [
    "model.best_score_"
   ]
  },
  {
   "cell_type": "code",
   "execution_count": 65,
   "id": "01bfcf39",
   "metadata": {},
   "outputs": [],
   "source": [
    "y_pred_traint=model.predict(x_train)\n",
    "y_pred_test=model.predict(x_test)"
   ]
  },
  {
   "cell_type": "code",
   "execution_count": 66,
   "id": "d1626609",
   "metadata": {},
   "outputs": [
    {
     "name": "stdout",
     "output_type": "stream",
     "text": [
      "              precision    recall  f1-score   support\n",
      "\n",
      "         0.0       0.99      0.94      0.96      5953\n",
      "         1.0       0.52      0.86      0.65       446\n",
      "\n",
      "    accuracy                           0.93      6399\n",
      "   macro avg       0.75      0.90      0.81      6399\n",
      "weighted avg       0.96      0.93      0.94      6399\n",
      "\n"
     ]
    }
   ],
   "source": [
    "print(classification_report(y_pred_train,y_train))"
   ]
  },
  {
   "cell_type": "code",
   "execution_count": 67,
   "id": "afe0297e",
   "metadata": {},
   "outputs": [
    {
     "name": "stdout",
     "output_type": "stream",
     "text": [
      "              precision    recall  f1-score   support\n",
      "\n",
      "         0.0       0.98      0.92      0.95      1524\n",
      "         1.0       0.30      0.68      0.42        76\n",
      "\n",
      "    accuracy                           0.91      1600\n",
      "   macro avg       0.64      0.80      0.68      1600\n",
      "weighted avg       0.95      0.91      0.93      1600\n",
      "\n"
     ]
    }
   ],
   "source": [
    "print(classification_report(y_pred_test,y_test))"
   ]
  },
  {
   "cell_type": "markdown",
   "id": "b87521c0",
   "metadata": {},
   "source": [
    "# Prediction using Decision Tree"
   ]
  },
  {
   "cell_type": "markdown",
   "id": "28556650",
   "metadata": {},
   "source": [
    "## Applying Decision Tree Classifier"
   ]
  },
  {
   "cell_type": "code",
   "execution_count": 68,
   "id": "c8260221",
   "metadata": {},
   "outputs": [],
   "source": [
    "from sklearn.tree import DecisionTreeClassifier"
   ]
  },
  {
   "cell_type": "code",
   "execution_count": 69,
   "id": "7424788a",
   "metadata": {},
   "outputs": [],
   "source": [
    "dt=DecisionTreeClassifier()"
   ]
  },
  {
   "cell_type": "code",
   "execution_count": 70,
   "id": "2aec6843",
   "metadata": {},
   "outputs": [
    {
     "data": {
      "text/plain": [
       "DecisionTreeClassifier()"
      ]
     },
     "execution_count": 70,
     "metadata": {},
     "output_type": "execute_result"
    }
   ],
   "source": [
    "dt.fit(x_train,y_train)"
   ]
  },
  {
   "cell_type": "code",
   "execution_count": 71,
   "id": "339c6e7e",
   "metadata": {},
   "outputs": [],
   "source": [
    "from sklearn.metrics import confusion_matrix"
   ]
  },
  {
   "cell_type": "code",
   "execution_count": 72,
   "id": "13d609cb",
   "metadata": {},
   "outputs": [],
   "source": [
    "y_train_pred=dt.predict(x_train)\n",
    "y_test_pred=dt.predict(x_test)"
   ]
  },
  {
   "cell_type": "markdown",
   "id": "34626fab",
   "metadata": {},
   "source": [
    "# Classification Report on Decision Tree classifier"
   ]
  },
  {
   "cell_type": "code",
   "execution_count": 73,
   "id": "d52699f6",
   "metadata": {},
   "outputs": [
    {
     "name": "stdout",
     "output_type": "stream",
     "text": [
      "Train Data\n",
      "              precision    recall  f1-score   support\n",
      "\n",
      "         0.0       1.00      1.00      1.00      5661\n",
      "         1.0       1.00      1.00      1.00       738\n",
      "\n",
      "    accuracy                           1.00      6399\n",
      "   macro avg       1.00      1.00      1.00      6399\n",
      "weighted avg       1.00      1.00      1.00      6399\n",
      "\n",
      "Test Data\n",
      "              precision    recall  f1-score   support\n",
      "\n",
      "         0.0       0.98      0.97      0.97      1426\n",
      "         1.0       0.77      0.80      0.79       174\n",
      "\n",
      "    accuracy                           0.95      1600\n",
      "   macro avg       0.87      0.89      0.88      1600\n",
      "weighted avg       0.95      0.95      0.95      1600\n",
      "\n"
     ]
    }
   ],
   "source": [
    "print(\"Train Data\")\n",
    "print(classification_report(y_train,y_train_pred))\n",
    "print(\"Test Data\")\n",
    "print(classification_report(y_test,y_test_pred))"
   ]
  },
  {
   "cell_type": "markdown",
   "id": "f16376e7",
   "metadata": {},
   "source": [
    "# Hyper-Parameter Tuning"
   ]
  },
  {
   "cell_type": "code",
   "execution_count": 74,
   "id": "3a43e235",
   "metadata": {},
   "outputs": [],
   "source": [
    "param={\n",
    "    \"criterion\":[\"gini\",\"entropy\"],\n",
    "    \"class_weight\":[None,\"balanced\"],\n",
    "    \"max_depth\":np.arange(1,11),\n",
    "    \"min_samples_leaf\":np.arange(1,6),\n",
    "    \"min_samples_split\":np.arange(1,6)\n",
    "}"
   ]
  },
  {
   "cell_type": "code",
   "execution_count": 75,
   "id": "d17e4849",
   "metadata": {},
   "outputs": [],
   "source": [
    "from sklearn.model_selection import GridSearchCV"
   ]
  },
  {
   "cell_type": "code",
   "execution_count": 76,
   "id": "763fac98",
   "metadata": {},
   "outputs": [
    {
     "data": {
      "text/plain": [
       "GridSearchCV(cv=5, estimator=DecisionTreeClassifier(), n_jobs=-1,\n",
       "             param_grid={'class_weight': [None, 'balanced'],\n",
       "                         'criterion': ['gini', 'entropy'],\n",
       "                         'max_depth': array([ 1,  2,  3,  4,  5,  6,  7,  8,  9, 10]),\n",
       "                         'min_samples_leaf': array([1, 2, 3, 4, 5]),\n",
       "                         'min_samples_split': array([1, 2, 3, 4, 5])},\n",
       "             scoring='f1')"
      ]
     },
     "execution_count": 76,
     "metadata": {},
     "output_type": "execute_result"
    }
   ],
   "source": [
    "gridclf=GridSearchCV(dt,param_grid=param,scoring=\"f1\",cv=5,n_jobs=-1)\n",
    "gridclf.fit(x_train,y_train)"
   ]
  },
  {
   "cell_type": "code",
   "execution_count": 77,
   "id": "6cd95987",
   "metadata": {},
   "outputs": [
    {
     "data": {
      "text/plain": [
       "{'class_weight': None,\n",
       " 'criterion': 'entropy',\n",
       " 'max_depth': 9,\n",
       " 'min_samples_leaf': 2,\n",
       " 'min_samples_split': 2}"
      ]
     },
     "execution_count": 77,
     "metadata": {},
     "output_type": "execute_result"
    }
   ],
   "source": [
    "gridclf.best_params_"
   ]
  },
  {
   "cell_type": "code",
   "execution_count": 78,
   "id": "b05faf3f",
   "metadata": {},
   "outputs": [],
   "source": [
    "grid_train_predictions = gridclf.predict(x_train)\n",
    "grid_test_predictions = gridclf.predict(x_test)"
   ]
  },
  {
   "cell_type": "markdown",
   "id": "3c056d39",
   "metadata": {},
   "source": [
    "# Classification report of decision tree after tuning the Model "
   ]
  },
  {
   "cell_type": "code",
   "execution_count": 79,
   "id": "61ce9a3e",
   "metadata": {},
   "outputs": [
    {
     "name": "stdout",
     "output_type": "stream",
     "text": [
      "              precision    recall  f1-score   support\n",
      "\n",
      "         0.0       0.98      1.00      0.99      5661\n",
      "         1.0       0.99      0.86      0.92       738\n",
      "\n",
      "    accuracy                           0.98      6399\n",
      "   macro avg       0.99      0.93      0.96      6399\n",
      "weighted avg       0.98      0.98      0.98      6399\n",
      "\n",
      "              precision    recall  f1-score   support\n",
      "\n",
      "         0.0       0.97      0.99      0.98      1426\n",
      "         1.0       0.86      0.73      0.79       174\n",
      "\n",
      "    accuracy                           0.96      1600\n",
      "   macro avg       0.91      0.86      0.88      1600\n",
      "weighted avg       0.96      0.96      0.96      1600\n",
      "\n"
     ]
    }
   ],
   "source": [
    "print(classification_report(y_train, grid_train_predictions))\n",
    "print(classification_report(y_test, grid_test_predictions))"
   ]
  },
  {
   "cell_type": "markdown",
   "id": "cb2e5d0d",
   "metadata": {},
   "source": [
    "# Prediction using Random Forest"
   ]
  },
  {
   "cell_type": "code",
   "execution_count": 80,
   "id": "a9c39d5b",
   "metadata": {},
   "outputs": [],
   "source": [
    "from sklearn.ensemble import RandomForestClassifier"
   ]
  },
  {
   "cell_type": "code",
   "execution_count": 81,
   "id": "2524b04c",
   "metadata": {},
   "outputs": [],
   "source": [
    "rf=RandomForestClassifier()"
   ]
  },
  {
   "cell_type": "code",
   "execution_count": 82,
   "id": "46494986",
   "metadata": {},
   "outputs": [
    {
     "data": {
      "text/plain": [
       "RandomForestClassifier()"
      ]
     },
     "execution_count": 82,
     "metadata": {},
     "output_type": "execute_result"
    }
   ],
   "source": [
    "rf.fit(x_train,y_train)"
   ]
  },
  {
   "cell_type": "code",
   "execution_count": 83,
   "id": "d18fb22e",
   "metadata": {},
   "outputs": [],
   "source": [
    "from sklearn.metrics import classification_report"
   ]
  },
  {
   "cell_type": "code",
   "execution_count": 84,
   "id": "4c6b8d01",
   "metadata": {},
   "outputs": [],
   "source": [
    "n_train_pred=dt.predict(x_train)\n",
    "n_test_pred=dt.predict(x_test)"
   ]
  },
  {
   "cell_type": "markdown",
   "id": "40b0978e",
   "metadata": {},
   "source": [
    "# Classification Report of Random Forest Classifier "
   ]
  },
  {
   "cell_type": "code",
   "execution_count": 85,
   "id": "7f963989",
   "metadata": {},
   "outputs": [
    {
     "name": "stdout",
     "output_type": "stream",
     "text": [
      "Train Data\n",
      "              precision    recall  f1-score   support\n",
      "\n",
      "         0.0       1.00      1.00      1.00      5661\n",
      "         1.0       1.00      1.00      1.00       738\n",
      "\n",
      "    accuracy                           1.00      6399\n",
      "   macro avg       1.00      1.00      1.00      6399\n",
      "weighted avg       1.00      1.00      1.00      6399\n",
      "\n",
      "Test Data\n",
      "              precision    recall  f1-score   support\n",
      "\n",
      "         0.0       0.98      0.97      0.97      1426\n",
      "         1.0       0.77      0.80      0.79       174\n",
      "\n",
      "    accuracy                           0.95      1600\n",
      "   macro avg       0.87      0.89      0.88      1600\n",
      "weighted avg       0.95      0.95      0.95      1600\n",
      "\n"
     ]
    }
   ],
   "source": [
    "print(\"Train Data\")\n",
    "print(classification_report(y_train,y_train_pred))\n",
    "print(\"Test Data\")\n",
    "print(classification_report(y_test,y_test_pred))"
   ]
  },
  {
   "cell_type": "markdown",
   "id": "9817ed12",
   "metadata": {},
   "source": [
    "# Hyper-parameter tuning of Random Forest Classifier"
   ]
  },
  {
   "cell_type": "code",
   "execution_count": 86,
   "id": "b034a509",
   "metadata": {},
   "outputs": [],
   "source": [
    "param_grid={\n",
    "    \"criterion\":[\"gini\",\"entropy\"],\n",
    "    \"class_weight\":[None,\"balanced\"],\n",
    "    \"n_estimators\":[100,150,300,600,500],\n",
    "    \"max_depth\":np.arange(1,50,2),\n",
    "    \"min_samples_leaf\":np.arange(1,20),\n",
    "    \"min_samples_split\":np.arange(2,15,1)\n",
    "}"
   ]
  },
  {
   "cell_type": "code",
   "execution_count": 87,
   "id": "e3b02481",
   "metadata": {},
   "outputs": [],
   "source": [
    "from sklearn.model_selection import RandomizedSearchCV"
   ]
  },
  {
   "cell_type": "code",
   "execution_count": 88,
   "id": "2d9cb9ae",
   "metadata": {},
   "outputs": [],
   "source": [
    "clf=RandomizedSearchCV(rf,param_distributions=param_grid,n_iter=20,scoring=\"f1\",n_jobs=-1)"
   ]
  },
  {
   "cell_type": "code",
   "execution_count": 89,
   "id": "d7e6bc7a",
   "metadata": {},
   "outputs": [
    {
     "data": {
      "text/plain": [
       "RandomizedSearchCV(estimator=RandomForestClassifier(), n_iter=20, n_jobs=-1,\n",
       "                   param_distributions={'class_weight': [None, 'balanced'],\n",
       "                                        'criterion': ['gini', 'entropy'],\n",
       "                                        'max_depth': array([ 1,  3,  5,  7,  9, 11, 13, 15, 17, 19, 21, 23, 25, 27, 29, 31, 33,\n",
       "       35, 37, 39, 41, 43, 45, 47, 49]),\n",
       "                                        'min_samples_leaf': array([ 1,  2,  3,  4,  5,  6,  7,  8,  9, 10, 11, 12, 13, 14, 15, 16, 17,\n",
       "       18, 19]),\n",
       "                                        'min_samples_split': array([ 2,  3,  4,  5,  6,  7,  8,  9, 10, 11, 12, 13, 14]),\n",
       "                                        'n_estimators': [100, 150, 300, 600,\n",
       "                                                         500]},\n",
       "                   scoring='f1')"
      ]
     },
     "execution_count": 89,
     "metadata": {},
     "output_type": "execute_result"
    }
   ],
   "source": [
    "clf.fit(x_train,y_train)"
   ]
  },
  {
   "cell_type": "code",
   "execution_count": 90,
   "id": "0a40bde1",
   "metadata": {},
   "outputs": [
    {
     "data": {
      "text/plain": [
       "{'n_estimators': 500,\n",
       " 'min_samples_split': 10,\n",
       " 'min_samples_leaf': 5,\n",
       " 'max_depth': 29,\n",
       " 'criterion': 'entropy',\n",
       " 'class_weight': 'balanced'}"
      ]
     },
     "execution_count": 90,
     "metadata": {},
     "output_type": "execute_result"
    }
   ],
   "source": [
    "clf.best_params_"
   ]
  },
  {
   "cell_type": "code",
   "execution_count": 91,
   "id": "a7d12389",
   "metadata": {},
   "outputs": [],
   "source": [
    "grid_train_predictions = gridclf.predict(x_train)\n",
    "grid_test_predictions = gridclf.predict(x_test)"
   ]
  },
  {
   "cell_type": "markdown",
   "id": "49a2c819",
   "metadata": {},
   "source": [
    "# Classification Report of Random Forest Classifier after tuning the Model "
   ]
  },
  {
   "cell_type": "code",
   "execution_count": 92,
   "id": "0822de2b",
   "metadata": {},
   "outputs": [
    {
     "name": "stdout",
     "output_type": "stream",
     "text": [
      "              precision    recall  f1-score   support\n",
      "\n",
      "         0.0       0.98      1.00      0.99      5661\n",
      "         1.0       0.99      0.86      0.92       738\n",
      "\n",
      "    accuracy                           0.98      6399\n",
      "   macro avg       0.99      0.93      0.96      6399\n",
      "weighted avg       0.98      0.98      0.98      6399\n",
      "\n",
      "              precision    recall  f1-score   support\n",
      "\n",
      "         0.0       0.97      0.99      0.98      1426\n",
      "         1.0       0.86      0.73      0.79       174\n",
      "\n",
      "    accuracy                           0.96      1600\n",
      "   macro avg       0.91      0.86      0.88      1600\n",
      "weighted avg       0.96      0.96      0.96      1600\n",
      "\n"
     ]
    }
   ],
   "source": [
    "print(classification_report(y_train, grid_train_predictions))\n",
    "print(classification_report(y_test, grid_test_predictions))"
   ]
  },
  {
   "cell_type": "markdown",
   "id": "eb023aef",
   "metadata": {},
   "source": [
    "# Prediction using Boodsting Algorithm"
   ]
  },
  {
   "cell_type": "markdown",
   "id": "cef8d75e",
   "metadata": {},
   "source": [
    "# AdaBoostClassifier"
   ]
  },
  {
   "cell_type": "code",
   "execution_count": 93,
   "id": "0d15c45b",
   "metadata": {},
   "outputs": [],
   "source": [
    "from sklearn.ensemble import AdaBoostClassifier"
   ]
  },
  {
   "cell_type": "code",
   "execution_count": 94,
   "id": "6a30c279",
   "metadata": {},
   "outputs": [],
   "source": [
    "ada_clf=AdaBoostClassifier(n_estimators=200)"
   ]
  },
  {
   "cell_type": "code",
   "execution_count": 95,
   "id": "22c95642",
   "metadata": {},
   "outputs": [],
   "source": [
    "ada_clf.fit(x_train,y_train)\n",
    "y_pred_train=ada_clf.predict(x_train)\n",
    "y_pred_test=ada_clf.predict(x_test)"
   ]
  },
  {
   "cell_type": "markdown",
   "id": "f5233d0b",
   "metadata": {},
   "source": [
    "# Classification Report"
   ]
  },
  {
   "cell_type": "code",
   "execution_count": 96,
   "id": "9f66d2d3",
   "metadata": {},
   "outputs": [
    {
     "name": "stdout",
     "output_type": "stream",
     "text": [
      "Train Data\n",
      "              precision    recall  f1-score   support\n",
      "\n",
      "         0.0       0.96      0.98      0.97      5661\n",
      "         1.0       0.83      0.66      0.73       738\n",
      "\n",
      "    accuracy                           0.94      6399\n",
      "   macro avg       0.89      0.82      0.85      6399\n",
      "weighted avg       0.94      0.94      0.94      6399\n",
      "\n",
      "Test Data\n",
      "              precision    recall  f1-score   support\n",
      "\n",
      "         0.0       0.94      0.98      0.96      1426\n",
      "         1.0       0.75      0.53      0.62       174\n",
      "\n",
      "    accuracy                           0.93      1600\n",
      "   macro avg       0.85      0.75      0.79      1600\n",
      "weighted avg       0.92      0.93      0.92      1600\n",
      "\n"
     ]
    }
   ],
   "source": [
    "print(\"Train Data\")\n",
    "print(classification_report(y_train,y_pred_train))\n",
    "print(\"Test Data\")\n",
    "print(classification_report(y_test,y_pred_test))"
   ]
  },
  {
   "cell_type": "markdown",
   "id": "c25c5339",
   "metadata": {},
   "source": [
    "# Hyper-Parameter tuning of Ada-Boost classifier"
   ]
  },
  {
   "cell_type": "code",
   "execution_count": 97,
   "id": "d0fa9950",
   "metadata": {},
   "outputs": [],
   "source": [
    "param_grid={\"n_estimators\":[100,150,300,600,500],\n",
    "           \"learning_rate\":[0.1,0.01,1,2,3]\n",
    "           }"
   ]
  },
  {
   "cell_type": "code",
   "execution_count": 98,
   "id": "3b744740",
   "metadata": {},
   "outputs": [],
   "source": [
    "from sklearn.model_selection import RandomizedSearchCV"
   ]
  },
  {
   "cell_type": "code",
   "execution_count": 99,
   "id": "aceb8acc",
   "metadata": {},
   "outputs": [],
   "source": [
    "clf=RandomizedSearchCV(ada_clf,param_distributions=param_grid,n_iter=20,scoring=\"f1\",n_jobs=-1)"
   ]
  },
  {
   "cell_type": "code",
   "execution_count": 100,
   "id": "e1f6d0cd",
   "metadata": {},
   "outputs": [
    {
     "data": {
      "text/plain": [
       "RandomizedSearchCV(estimator=AdaBoostClassifier(n_estimators=200), n_iter=20,\n",
       "                   n_jobs=-1,\n",
       "                   param_distributions={'learning_rate': [0.1, 0.01, 1, 2, 3],\n",
       "                                        'n_estimators': [100, 150, 300, 600,\n",
       "                                                         500]},\n",
       "                   scoring='f1')"
      ]
     },
     "execution_count": 100,
     "metadata": {},
     "output_type": "execute_result"
    }
   ],
   "source": [
    "clf.fit(x_train,y_train)"
   ]
  },
  {
   "cell_type": "code",
   "execution_count": 101,
   "id": "2afc6d0a",
   "metadata": {},
   "outputs": [
    {
     "data": {
      "text/plain": [
       "{'n_estimators': 300, 'learning_rate': 1}"
      ]
     },
     "execution_count": 101,
     "metadata": {},
     "output_type": "execute_result"
    }
   ],
   "source": [
    "clf.best_params_"
   ]
  },
  {
   "cell_type": "code",
   "execution_count": 102,
   "id": "c63697e6",
   "metadata": {},
   "outputs": [],
   "source": [
    "grid_train_predictions = gridclf.predict(x_train)\n",
    "grid_test_predictions = gridclf.predict(x_test)"
   ]
  },
  {
   "cell_type": "markdown",
   "id": "61abfb8e",
   "metadata": {},
   "source": [
    "# Classification Report of Ada-Boost Classifier after tuning the Model "
   ]
  },
  {
   "cell_type": "code",
   "execution_count": 103,
   "id": "dbc4b5e0",
   "metadata": {},
   "outputs": [
    {
     "name": "stdout",
     "output_type": "stream",
     "text": [
      "              precision    recall  f1-score   support\n",
      "\n",
      "         0.0       0.98      1.00      0.99      5661\n",
      "         1.0       0.99      0.86      0.92       738\n",
      "\n",
      "    accuracy                           0.98      6399\n",
      "   macro avg       0.99      0.93      0.96      6399\n",
      "weighted avg       0.98      0.98      0.98      6399\n",
      "\n",
      "              precision    recall  f1-score   support\n",
      "\n",
      "         0.0       0.97      0.99      0.98      1426\n",
      "         1.0       0.86      0.73      0.79       174\n",
      "\n",
      "    accuracy                           0.96      1600\n",
      "   macro avg       0.91      0.86      0.88      1600\n",
      "weighted avg       0.96      0.96      0.96      1600\n",
      "\n"
     ]
    }
   ],
   "source": [
    "print(classification_report(y_train, grid_train_predictions))\n",
    "print(classification_report(y_test, grid_test_predictions))"
   ]
  },
  {
   "cell_type": "markdown",
   "id": "9df6c533",
   "metadata": {},
   "source": [
    "# Gradient Boosting Algoritum "
   ]
  },
  {
   "cell_type": "code",
   "execution_count": 104,
   "id": "019a2442",
   "metadata": {},
   "outputs": [],
   "source": [
    "from sklearn.ensemble import GradientBoostingClassifier"
   ]
  },
  {
   "cell_type": "code",
   "execution_count": 105,
   "id": "c9ae1e5e",
   "metadata": {},
   "outputs": [],
   "source": [
    "gdb_clf=GradientBoostingClassifier(n_estimators=200)"
   ]
  },
  {
   "cell_type": "code",
   "execution_count": 106,
   "id": "dae40d35",
   "metadata": {},
   "outputs": [],
   "source": [
    "gdb_clf.fit(x_train,y_train)\n",
    "y_pred_train=gdb_clf.predict(x_train)\n",
    "y_pred_test=gdb_clf.predict(x_test)"
   ]
  },
  {
   "cell_type": "markdown",
   "id": "29f541af",
   "metadata": {},
   "source": [
    "# Classification Report "
   ]
  },
  {
   "cell_type": "code",
   "execution_count": 107,
   "id": "d06cee1f",
   "metadata": {},
   "outputs": [
    {
     "name": "stdout",
     "output_type": "stream",
     "text": [
      "Train Data\n",
      "              precision    recall  f1-score   support\n",
      "\n",
      "         0.0       0.98      1.00      0.99      5661\n",
      "         1.0       0.98      0.86      0.92       738\n",
      "\n",
      "    accuracy                           0.98      6399\n",
      "   macro avg       0.98      0.93      0.95      6399\n",
      "weighted avg       0.98      0.98      0.98      6399\n",
      "\n",
      "Test Data\n",
      "              precision    recall  f1-score   support\n",
      "\n",
      "         0.0       0.97      0.99      0.98      1426\n",
      "         1.0       0.90      0.71      0.79       174\n",
      "\n",
      "    accuracy                           0.96      1600\n",
      "   macro avg       0.93      0.85      0.89      1600\n",
      "weighted avg       0.96      0.96      0.96      1600\n",
      "\n"
     ]
    }
   ],
   "source": [
    "print(\"Train Data\")\n",
    "print(classification_report(y_train,y_pred_train))\n",
    "print(\"Test Data\")\n",
    "print(classification_report(y_test,y_pred_test))"
   ]
  },
  {
   "cell_type": "markdown",
   "id": "fb7b39af",
   "metadata": {},
   "source": [
    "# Hyper-Parameter tuning of Gradient Boosting Algorithm"
   ]
  },
  {
   "cell_type": "code",
   "execution_count": 108,
   "id": "c4d254ee",
   "metadata": {},
   "outputs": [],
   "source": [
    "param_grid={\"n_estimators\":[100,150,300,600,500],\n",
    "           \"learning_rate\":[0.1,0.01,1,2,3]\n",
    "           }"
   ]
  },
  {
   "cell_type": "code",
   "execution_count": 109,
   "id": "b725b234",
   "metadata": {},
   "outputs": [],
   "source": [
    "from sklearn.model_selection import RandomizedSearchCV"
   ]
  },
  {
   "cell_type": "code",
   "execution_count": 110,
   "id": "4ae1bba4",
   "metadata": {},
   "outputs": [],
   "source": [
    "clf=RandomizedSearchCV(gdb_clf,param_distributions=param_grid,n_iter=20,scoring=\"f1\",n_jobs=-1)"
   ]
  },
  {
   "cell_type": "code",
   "execution_count": 111,
   "id": "7daff8b4",
   "metadata": {},
   "outputs": [
    {
     "data": {
      "text/plain": [
       "RandomizedSearchCV(estimator=GradientBoostingClassifier(n_estimators=200),\n",
       "                   n_iter=20, n_jobs=-1,\n",
       "                   param_distributions={'learning_rate': [0.1, 0.01, 1, 2, 3],\n",
       "                                        'n_estimators': [100, 150, 300, 600,\n",
       "                                                         500]},\n",
       "                   scoring='f1')"
      ]
     },
     "execution_count": 111,
     "metadata": {},
     "output_type": "execute_result"
    }
   ],
   "source": [
    "clf.fit(x_train,y_train)"
   ]
  },
  {
   "cell_type": "code",
   "execution_count": 112,
   "id": "fea3f7fe",
   "metadata": {},
   "outputs": [
    {
     "data": {
      "text/plain": [
       "{'n_estimators': 600, 'learning_rate': 0.1}"
      ]
     },
     "execution_count": 112,
     "metadata": {},
     "output_type": "execute_result"
    }
   ],
   "source": [
    "clf.best_params_"
   ]
  },
  {
   "cell_type": "code",
   "execution_count": 113,
   "id": "3a7d5336",
   "metadata": {},
   "outputs": [],
   "source": [
    "grid_train_predictions = gridclf.predict(x_train)\n",
    "grid_test_predictions = gridclf.predict(x_test)"
   ]
  },
  {
   "cell_type": "markdown",
   "id": "81247d15",
   "metadata": {},
   "source": [
    "# Classification Report "
   ]
  },
  {
   "cell_type": "code",
   "execution_count": 114,
   "id": "b9e2ffae",
   "metadata": {},
   "outputs": [
    {
     "name": "stdout",
     "output_type": "stream",
     "text": [
      "              precision    recall  f1-score   support\n",
      "\n",
      "         0.0       0.98      1.00      0.99      5661\n",
      "         1.0       0.99      0.86      0.92       738\n",
      "\n",
      "    accuracy                           0.98      6399\n",
      "   macro avg       0.99      0.93      0.96      6399\n",
      "weighted avg       0.98      0.98      0.98      6399\n",
      "\n",
      "              precision    recall  f1-score   support\n",
      "\n",
      "         0.0       0.97      0.99      0.98      1426\n",
      "         1.0       0.86      0.73      0.79       174\n",
      "\n",
      "    accuracy                           0.96      1600\n",
      "   macro avg       0.91      0.86      0.88      1600\n",
      "weighted avg       0.96      0.96      0.96      1600\n",
      "\n"
     ]
    }
   ],
   "source": [
    "print(classification_report(y_train,grid_train_predictions))\n",
    "print(classification_report(y_test,grid_test_predictions))"
   ]
  },
  {
   "cell_type": "markdown",
   "id": "1da4bcc3",
   "metadata": {},
   "source": [
    "# DataFrame of Algorithm"
   ]
  },
  {
   "cell_type": "code",
   "execution_count": 119,
   "id": "648655f1",
   "metadata": {},
   "outputs": [],
   "source": [
    "data={\"Classification Algorithms\":\n",
    "      [\"Logistic Regression\",\"K-nearest Neighbours\",\"Decision Tree Classifier\",\"Random Forest\",\"Ada boost\",\"Gradient Boost\"],\n",
    "     \"Train Data\":[0.91,0.93,1.00,1.00,0.94,0.98],\n",
    "      \"Test Data\":[0.90,0.90,0.95,0.95,0.93,0.96],\n",
    "      \"After Tuning train\":[0.98,0.93,0.98,0.98,0.99,0.99],\n",
    "      \"After Tuning Test\":[0.90,0.91,0.96,0.96,0.96,0.96] \n",
    "     }"
   ]
  },
  {
   "cell_type": "code",
   "execution_count": 120,
   "id": "861a4cac",
   "metadata": {},
   "outputs": [
    {
     "data": {
      "text/html": [
       "<div>\n",
       "<style scoped>\n",
       "    .dataframe tbody tr th:only-of-type {\n",
       "        vertical-align: middle;\n",
       "    }\n",
       "\n",
       "    .dataframe tbody tr th {\n",
       "        vertical-align: top;\n",
       "    }\n",
       "\n",
       "    .dataframe thead th {\n",
       "        text-align: right;\n",
       "    }\n",
       "</style>\n",
       "<table border=\"1\" class=\"dataframe\">\n",
       "  <thead>\n",
       "    <tr style=\"text-align: right;\">\n",
       "      <th></th>\n",
       "      <th>Classification Algorithms</th>\n",
       "      <th>Train Data</th>\n",
       "      <th>Test Data</th>\n",
       "      <th>After Tuning train</th>\n",
       "      <th>After Tuning Test</th>\n",
       "    </tr>\n",
       "  </thead>\n",
       "  <tbody>\n",
       "    <tr>\n",
       "      <th>0</th>\n",
       "      <td>Logistic Regression</td>\n",
       "      <td>0.91</td>\n",
       "      <td>0.90</td>\n",
       "      <td>0.98</td>\n",
       "      <td>0.90</td>\n",
       "    </tr>\n",
       "    <tr>\n",
       "      <th>1</th>\n",
       "      <td>K-nearest Neighbours</td>\n",
       "      <td>0.93</td>\n",
       "      <td>0.90</td>\n",
       "      <td>0.93</td>\n",
       "      <td>0.91</td>\n",
       "    </tr>\n",
       "    <tr>\n",
       "      <th>2</th>\n",
       "      <td>Decision Tree Classifier</td>\n",
       "      <td>1.00</td>\n",
       "      <td>0.95</td>\n",
       "      <td>0.98</td>\n",
       "      <td>0.96</td>\n",
       "    </tr>\n",
       "    <tr>\n",
       "      <th>3</th>\n",
       "      <td>Random Forest</td>\n",
       "      <td>1.00</td>\n",
       "      <td>0.95</td>\n",
       "      <td>0.98</td>\n",
       "      <td>0.96</td>\n",
       "    </tr>\n",
       "    <tr>\n",
       "      <th>4</th>\n",
       "      <td>Ada boost</td>\n",
       "      <td>0.94</td>\n",
       "      <td>0.93</td>\n",
       "      <td>0.99</td>\n",
       "      <td>0.96</td>\n",
       "    </tr>\n",
       "    <tr>\n",
       "      <th>5</th>\n",
       "      <td>Gradient Boost</td>\n",
       "      <td>0.98</td>\n",
       "      <td>0.96</td>\n",
       "      <td>0.99</td>\n",
       "      <td>0.96</td>\n",
       "    </tr>\n",
       "  </tbody>\n",
       "</table>\n",
       "</div>"
      ],
      "text/plain": [
       "  Classification Algorithms  Train Data  Test Data  After Tuning train  \\\n",
       "0       Logistic Regression        0.91       0.90                0.98   \n",
       "1      K-nearest Neighbours        0.93       0.90                0.93   \n",
       "2  Decision Tree Classifier        1.00       0.95                0.98   \n",
       "3             Random Forest        1.00       0.95                0.98   \n",
       "4                 Ada boost        0.94       0.93                0.99   \n",
       "5            Gradient Boost        0.98       0.96                0.99   \n",
       "\n",
       "   After Tuning Test  \n",
       "0               0.90  \n",
       "1               0.91  \n",
       "2               0.96  \n",
       "3               0.96  \n",
       "4               0.96  \n",
       "5               0.96  "
      ]
     },
     "execution_count": 120,
     "metadata": {},
     "output_type": "execute_result"
    }
   ],
   "source": [
    "pd.DataFrame(data)"
   ]
  },
  {
   "cell_type": "markdown",
   "id": "c7f94f42",
   "metadata": {},
   "source": [
    "# The Best Prediction was done by Model trained on XGB Gradient Boosting Algorithm with accuracy of 99 % on Train data & 96% on Test Data"
   ]
  }
 ],
 "metadata": {
  "kernelspec": {
   "display_name": "Python 3 (ipykernel)",
   "language": "python",
   "name": "python3"
  },
  "language_info": {
   "codemirror_mode": {
    "name": "ipython",
    "version": 3
   },
   "file_extension": ".py",
   "mimetype": "text/x-python",
   "name": "python",
   "nbconvert_exporter": "python",
   "pygments_lexer": "ipython3",
   "version": "3.9.13"
  }
 },
 "nbformat": 4,
 "nbformat_minor": 5
}
